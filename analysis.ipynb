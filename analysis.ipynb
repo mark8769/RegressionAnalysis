{
 "cells": [
  {
   "cell_type": "markdown",
   "id": "9ba467ec",
   "metadata": {},
   "source": [
    "# StockX Sneaker Data Contest\n",
    "source: https://www.kaggle.com/datasets/hudsonstuck/stockx-data-contest\n",
    "\n",
    "The data consists of a random sample of all Off-White x Nike and Yeezy 350 sales from between 9/1/2017 (the month that Off-White first debuted “The Ten” collection) and the present. There are 99,956 total sales in the data set; 27,794 Off-White sales, and 72,162 Yeezy sales. The sample consists of U.S. sales only."
   ]
  },
  {
   "cell_type": "markdown",
   "id": "5e59eeec",
   "metadata": {},
   "source": [
    "- Order Date: Time shoe was purchases by a customer on StockX\n",
    "- Brand: Yeezy or Off-White only\n",
    "- Sneaker Name: Name of shoe being released\n",
    "- Sale Price: Price of shoe when it was resold\n",
    "- Retail Price: Price person pays at a non-resell store like Nike, Footlocker, Champs, Footaction and so on.\n",
    "- Release Date: Date shoe is set to be released to the public\n",
    "- Shoe Size: Size of shoe\n",
    "- Buyer Region: Region of customer paying resell prices on StockX (An aftermarket for desirable shoes)\n",
    "\n",
    "\n",
    "Overall Goal: Predict the price of Yeezy or Off-White shoes (the only brands in this dataset)"
   ]
  },
  {
   "cell_type": "markdown",
   "id": "6b54e1ea",
   "metadata": {},
   "source": [
    "**Import some of the libraries well be using**"
   ]
  },
  {
   "cell_type": "code",
   "execution_count": 1,
   "id": "6e17c699",
   "metadata": {},
   "outputs": [],
   "source": [
    "import pandas as pd\n",
    "import numpy as np\n",
    "import matplotlib.pyplot as plt\n",
    "import seaborn as sns"
   ]
  },
  {
   "cell_type": "markdown",
   "id": "d608f26c",
   "metadata": {},
   "source": [
    "**Read the file**"
   ]
  },
  {
   "cell_type": "code",
   "execution_count": 2,
   "id": "67fc48cb",
   "metadata": {},
   "outputs": [],
   "source": [
    "df = pd.read_csv(\"StockX-Data-Contest-2019-3.csv\")"
   ]
  },
  {
   "cell_type": "markdown",
   "id": "11e11a91",
   "metadata": {},
   "source": [
    "**Check the head of the dataframe**"
   ]
  },
  {
   "cell_type": "code",
   "execution_count": 3,
   "id": "561b5ccf",
   "metadata": {},
   "outputs": [
    {
     "data": {
      "text/html": [
       "<div>\n",
       "<style scoped>\n",
       "    .dataframe tbody tr th:only-of-type {\n",
       "        vertical-align: middle;\n",
       "    }\n",
       "\n",
       "    .dataframe tbody tr th {\n",
       "        vertical-align: top;\n",
       "    }\n",
       "\n",
       "    .dataframe thead th {\n",
       "        text-align: right;\n",
       "    }\n",
       "</style>\n",
       "<table border=\"1\" class=\"dataframe\">\n",
       "  <thead>\n",
       "    <tr style=\"text-align: right;\">\n",
       "      <th></th>\n",
       "      <th>Order Date</th>\n",
       "      <th>Brand</th>\n",
       "      <th>Sneaker Name</th>\n",
       "      <th>Sale Price</th>\n",
       "      <th>Retail Price</th>\n",
       "      <th>Release Date</th>\n",
       "      <th>Shoe Size</th>\n",
       "      <th>Buyer Region</th>\n",
       "    </tr>\n",
       "  </thead>\n",
       "  <tbody>\n",
       "    <tr>\n",
       "      <th>0</th>\n",
       "      <td>9/1/17</td>\n",
       "      <td>Yeezy</td>\n",
       "      <td>Adidas-Yeezy-Boost-350-Low-V2-Beluga</td>\n",
       "      <td>$1,097</td>\n",
       "      <td>$220</td>\n",
       "      <td>9/24/16</td>\n",
       "      <td>11.0</td>\n",
       "      <td>California</td>\n",
       "    </tr>\n",
       "    <tr>\n",
       "      <th>1</th>\n",
       "      <td>9/1/17</td>\n",
       "      <td>Yeezy</td>\n",
       "      <td>Adidas-Yeezy-Boost-350-V2-Core-Black-Copper</td>\n",
       "      <td>$685</td>\n",
       "      <td>$220</td>\n",
       "      <td>11/23/16</td>\n",
       "      <td>11.0</td>\n",
       "      <td>California</td>\n",
       "    </tr>\n",
       "    <tr>\n",
       "      <th>2</th>\n",
       "      <td>9/1/17</td>\n",
       "      <td>Yeezy</td>\n",
       "      <td>Adidas-Yeezy-Boost-350-V2-Core-Black-Green</td>\n",
       "      <td>$690</td>\n",
       "      <td>$220</td>\n",
       "      <td>11/23/16</td>\n",
       "      <td>11.0</td>\n",
       "      <td>California</td>\n",
       "    </tr>\n",
       "  </tbody>\n",
       "</table>\n",
       "</div>"
      ],
      "text/plain": [
       "  Order Date   Brand                                 Sneaker Name Sale Price  \\\n",
       "0     9/1/17   Yeezy         Adidas-Yeezy-Boost-350-Low-V2-Beluga     $1,097   \n",
       "1     9/1/17   Yeezy  Adidas-Yeezy-Boost-350-V2-Core-Black-Copper       $685   \n",
       "2     9/1/17   Yeezy   Adidas-Yeezy-Boost-350-V2-Core-Black-Green       $690   \n",
       "\n",
       "  Retail Price Release Date  Shoe Size Buyer Region  \n",
       "0         $220      9/24/16       11.0   California  \n",
       "1         $220     11/23/16       11.0   California  \n",
       "2         $220     11/23/16       11.0   California  "
      ]
     },
     "execution_count": 3,
     "metadata": {},
     "output_type": "execute_result"
    }
   ],
   "source": [
    "df.head(3)"
   ]
  },
  {
   "cell_type": "markdown",
   "id": "d8c99dd1",
   "metadata": {},
   "source": [
    "**Check the datatypes of the data**"
   ]
  },
  {
   "cell_type": "code",
   "execution_count": 4,
   "id": "9e07ca3f",
   "metadata": {},
   "outputs": [
    {
     "name": "stdout",
     "output_type": "stream",
     "text": [
      "<class 'pandas.core.frame.DataFrame'>\n",
      "RangeIndex: 99956 entries, 0 to 99955\n",
      "Data columns (total 8 columns):\n",
      " #   Column        Non-Null Count  Dtype  \n",
      "---  ------        --------------  -----  \n",
      " 0   Order Date    99956 non-null  object \n",
      " 1   Brand         99956 non-null  object \n",
      " 2   Sneaker Name  99956 non-null  object \n",
      " 3   Sale Price    99956 non-null  object \n",
      " 4   Retail Price  99956 non-null  object \n",
      " 5   Release Date  99956 non-null  object \n",
      " 6   Shoe Size     99956 non-null  float64\n",
      " 7   Buyer Region  99956 non-null  object \n",
      "dtypes: float64(1), object(7)\n",
      "memory usage: 6.1+ MB\n"
     ]
    }
   ],
   "source": [
    "df.info()"
   ]
  },
  {
   "cell_type": "markdown",
   "id": "645ee727",
   "metadata": {},
   "source": [
    "**Before going further, check if there are null values in the dataset**"
   ]
  },
  {
   "cell_type": "code",
   "execution_count": 5,
   "id": "2800dc41",
   "metadata": {},
   "outputs": [
    {
     "data": {
      "text/plain": [
       "<AxesSubplot:>"
      ]
     },
     "execution_count": 5,
     "metadata": {},
     "output_type": "execute_result"
    },
    {
     "data": {
      "image/png": "[encoded data removed]",
      "text/plain": [
       "<Figure size 640x480 with 2 Axes>"
      ]
     },
     "metadata": {},
     "output_type": "display_data"
    }
   ],
   "source": [
    "sns.heatmap(df.isnull())"
   ]
  },
  {
   "cell_type": "markdown",
   "id": "da8d1096",
   "metadata": {},
   "source": [
    "**No null values, so no modifying of dataset needed**"
   ]
  },
  {
   "cell_type": "markdown",
   "id": "7b48f00f",
   "metadata": {},
   "source": [
    "**Convert sale price, retail price to integers**"
   ]
  },
  {
   "cell_type": "code",
   "execution_count": 6,
   "id": "fbe0fd17",
   "metadata": {},
   "outputs": [],
   "source": [
    "def dollar_string_to_int(dollar_string):\n",
    "    amount = dollar_string.split(\"$\")[-1]\n",
    "\n",
    "    try:\n",
    "        amount_int = int(amount)\n",
    "    except ValueError:\n",
    "        amount_int = int(amount.replace(\",\", \"\"))\n",
    "    \n",
    "    return amount_int\n",
    "\n",
    "df[\"Sale Price\"] = df[\"Sale Price\"].apply(dollar_string_to_int)\n",
    "df[\"Retail Price\"] = df[\"Retail Price\"].apply(dollar_string_to_int)"
   ]
  },
  {
   "cell_type": "markdown",
   "id": "d980828e",
   "metadata": {},
   "source": [
    "**Convert dates to datetime objects to get month, day, year as numerical values**"
   ]
  },
  {
   "cell_type": "code",
   "execution_count": 7,
   "id": "f0cf599a",
   "metadata": {},
   "outputs": [],
   "source": [
    "df[\"Release Date\"] = pd.to_datetime(df[\"Release Date\"])\n",
    "df[\"Order Date\"] = pd.to_datetime(df[\"Order Date\"])"
   ]
  },
  {
   "cell_type": "markdown",
   "id": "48724f96",
   "metadata": {},
   "source": [
    "**Pull year, month, day from the 2 dates columns, and append to dataframe**"
   ]
  },
  {
   "cell_type": "code",
   "execution_count": 8,
   "id": "5008e500",
   "metadata": {},
   "outputs": [],
   "source": [
    "df[\"R_Year\"] = df[\"Release Date\"].apply(lambda x: x.year)\n",
    "df[\"R_Month\"] = df[\"Release Date\"].apply(lambda x: x.month)\n",
    "df[\"R_Day\"] = df[\"Release Date\"].apply(lambda x: x.day)\n",
    "df[\"O_Year\"] = df[\"Order Date\"].apply(lambda x: x.year)\n",
    "df[\"O_Month\"] = df[\"Order Date\"].apply(lambda x: x.month)\n",
    "df[\"O_Day\"] = df[\"Order Date\"].apply(lambda x: x.day)"
   ]
  },
  {
   "cell_type": "code",
   "execution_count": 9,
   "id": "a1425d0a",
   "metadata": {},
   "outputs": [
    {
     "data": {
      "text/html": [
       "<div>\n",
       "<style scoped>\n",
       "    .dataframe tbody tr th:only-of-type {\n",
       "        vertical-align: middle;\n",
       "    }\n",
       "\n",
       "    .dataframe tbody tr th {\n",
       "        vertical-align: top;\n",
       "    }\n",
       "\n",
       "    .dataframe thead th {\n",
       "        text-align: right;\n",
       "    }\n",
       "</style>\n",
       "<table border=\"1\" class=\"dataframe\">\n",
       "  <thead>\n",
       "    <tr style=\"text-align: right;\">\n",
       "      <th></th>\n",
       "      <th>Order Date</th>\n",
       "      <th>Brand</th>\n",
       "      <th>Sneaker Name</th>\n",
       "      <th>Sale Price</th>\n",
       "      <th>Retail Price</th>\n",
       "      <th>Release Date</th>\n",
       "      <th>Shoe Size</th>\n",
       "      <th>Buyer Region</th>\n",
       "      <th>R_Year</th>\n",
       "      <th>R_Month</th>\n",
       "      <th>R_Day</th>\n",
       "      <th>O_Year</th>\n",
       "      <th>O_Month</th>\n",
       "      <th>O_Day</th>\n",
       "    </tr>\n",
       "  </thead>\n",
       "  <tbody>\n",
       "    <tr>\n",
       "      <th>0</th>\n",
       "      <td>2017-09-01</td>\n",
       "      <td>Yeezy</td>\n",
       "      <td>Adidas-Yeezy-Boost-350-Low-V2-Beluga</td>\n",
       "      <td>1097</td>\n",
       "      <td>220</td>\n",
       "      <td>2016-09-24</td>\n",
       "      <td>11.0</td>\n",
       "      <td>California</td>\n",
       "      <td>2016</td>\n",
       "      <td>9</td>\n",
       "      <td>24</td>\n",
       "      <td>2017</td>\n",
       "      <td>9</td>\n",
       "      <td>1</td>\n",
       "    </tr>\n",
       "  </tbody>\n",
       "</table>\n",
       "</div>"
      ],
      "text/plain": [
       "  Order Date   Brand                          Sneaker Name  Sale Price  \\\n",
       "0 2017-09-01   Yeezy  Adidas-Yeezy-Boost-350-Low-V2-Beluga        1097   \n",
       "\n",
       "   Retail Price Release Date  Shoe Size Buyer Region  R_Year  R_Month  R_Day  \\\n",
       "0           220   2016-09-24       11.0   California    2016        9     24   \n",
       "\n",
       "   O_Year  O_Month  O_Day  \n",
       "0    2017        9      1  "
      ]
     },
     "execution_count": 9,
     "metadata": {},
     "output_type": "execute_result"
    }
   ],
   "source": [
    "df.head(1)"
   ]
  },
  {
   "cell_type": "markdown",
   "id": "a0b1687b",
   "metadata": {},
   "source": [
    "**Removing dates columns as we converted to numerical columns**"
   ]
  },
  {
   "cell_type": "code",
   "execution_count": 10,
   "id": "9e0e112e",
   "metadata": {},
   "outputs": [
    {
     "data": {
      "text/html": [
       "<div>\n",
       "<style scoped>\n",
       "    .dataframe tbody tr th:only-of-type {\n",
       "        vertical-align: middle;\n",
       "    }\n",
       "\n",
       "    .dataframe tbody tr th {\n",
       "        vertical-align: top;\n",
       "    }\n",
       "\n",
       "    .dataframe thead th {\n",
       "        text-align: right;\n",
       "    }\n",
       "</style>\n",
       "<table border=\"1\" class=\"dataframe\">\n",
       "  <thead>\n",
       "    <tr style=\"text-align: right;\">\n",
       "      <th></th>\n",
       "      <th>Brand</th>\n",
       "      <th>Sneaker Name</th>\n",
       "      <th>Sale Price</th>\n",
       "      <th>Retail Price</th>\n",
       "      <th>Shoe Size</th>\n",
       "      <th>Buyer Region</th>\n",
       "      <th>R_Year</th>\n",
       "      <th>R_Month</th>\n",
       "      <th>R_Day</th>\n",
       "      <th>O_Year</th>\n",
       "      <th>O_Month</th>\n",
       "      <th>O_Day</th>\n",
       "    </tr>\n",
       "  </thead>\n",
       "  <tbody>\n",
       "    <tr>\n",
       "      <th>0</th>\n",
       "      <td>Yeezy</td>\n",
       "      <td>Adidas-Yeezy-Boost-350-Low-V2-Beluga</td>\n",
       "      <td>1097</td>\n",
       "      <td>220</td>\n",
       "      <td>11.0</td>\n",
       "      <td>California</td>\n",
       "      <td>2016</td>\n",
       "      <td>9</td>\n",
       "      <td>24</td>\n",
       "      <td>2017</td>\n",
       "      <td>9</td>\n",
       "      <td>1</td>\n",
       "    </tr>\n",
       "  </tbody>\n",
       "</table>\n",
       "</div>"
      ],
      "text/plain": [
       "    Brand                          Sneaker Name  Sale Price  Retail Price  \\\n",
       "0   Yeezy  Adidas-Yeezy-Boost-350-Low-V2-Beluga        1097           220   \n",
       "\n",
       "   Shoe Size Buyer Region  R_Year  R_Month  R_Day  O_Year  O_Month  O_Day  \n",
       "0       11.0   California    2016        9     24    2017        9      1  "
      ]
     },
     "execution_count": 10,
     "metadata": {},
     "output_type": "execute_result"
    }
   ],
   "source": [
    "df.drop([\"Order Date\", \"Release Date\"], axis=1, inplace=True)\n",
    "df.head(1)"
   ]
  },
  {
   "cell_type": "markdown",
   "id": "73f9a46a",
   "metadata": {},
   "source": [
    "**Can I consider Buyer Region as a categorical variable? We have 51 states as 100,000 entries**"
   ]
  },
  {
   "cell_type": "code",
   "execution_count": 11,
   "id": "9602abb1",
   "metadata": {},
   "outputs": [
    {
     "data": {
      "text/plain": [
       "51"
      ]
     },
     "execution_count": 11,
     "metadata": {},
     "output_type": "execute_result"
    }
   ],
   "source": [
    "len(df[\"Buyer Region\"].value_counts())\n",
    "# On average there would be 2000 per state, pretty sure its heavily skewed to east and west coast states"
   ]
  },
  {
   "cell_type": "code",
   "execution_count": 12,
   "id": "00df2bbe",
   "metadata": {},
   "outputs": [
    {
     "data": {
      "text/html": [
       "<div>\n",
       "<style scoped>\n",
       "    .dataframe tbody tr th:only-of-type {\n",
       "        vertical-align: middle;\n",
       "    }\n",
       "\n",
       "    .dataframe tbody tr th {\n",
       "        vertical-align: top;\n",
       "    }\n",
       "\n",
       "    .dataframe thead th {\n",
       "        text-align: right;\n",
       "    }\n",
       "</style>\n",
       "<table border=\"1\" class=\"dataframe\">\n",
       "  <thead>\n",
       "    <tr style=\"text-align: right;\">\n",
       "      <th></th>\n",
       "      <th>state</th>\n",
       "      <th>amount</th>\n",
       "    </tr>\n",
       "  </thead>\n",
       "  <tbody>\n",
       "    <tr>\n",
       "      <th>0</th>\n",
       "      <td>California</td>\n",
       "      <td>19349</td>\n",
       "    </tr>\n",
       "    <tr>\n",
       "      <th>4</th>\n",
       "      <td>New York</td>\n",
       "      <td>16525</td>\n",
       "    </tr>\n",
       "    <tr>\n",
       "      <th>10</th>\n",
       "      <td>Oregon</td>\n",
       "      <td>7681</td>\n",
       "    </tr>\n",
       "    <tr>\n",
       "      <th>6</th>\n",
       "      <td>Florida</td>\n",
       "      <td>6376</td>\n",
       "    </tr>\n",
       "    <tr>\n",
       "      <th>8</th>\n",
       "      <td>Texas</td>\n",
       "      <td>5876</td>\n",
       "    </tr>\n",
       "    <tr>\n",
       "      <th>7</th>\n",
       "      <td>New Jersey</td>\n",
       "      <td>4720</td>\n",
       "    </tr>\n",
       "    <tr>\n",
       "      <th>28</th>\n",
       "      <td>Illinois</td>\n",
       "      <td>3782</td>\n",
       "    </tr>\n",
       "    <tr>\n",
       "      <th>17</th>\n",
       "      <td>Pennsylvania</td>\n",
       "      <td>3109</td>\n",
       "    </tr>\n",
       "    <tr>\n",
       "      <th>16</th>\n",
       "      <td>Massachusetts</td>\n",
       "      <td>2903</td>\n",
       "    </tr>\n",
       "    <tr>\n",
       "      <th>3</th>\n",
       "      <td>Michigan</td>\n",
       "      <td>2762</td>\n",
       "    </tr>\n",
       "  </tbody>\n",
       "</table>\n",
       "</div>"
      ],
      "text/plain": [
       "            state  amount\n",
       "0      California   19349\n",
       "4        New York   16525\n",
       "10         Oregon    7681\n",
       "6         Florida    6376\n",
       "8           Texas    5876\n",
       "7      New Jersey    4720\n",
       "28       Illinois    3782\n",
       "17   Pennsylvania    3109\n",
       "16  Massachusetts    2903\n",
       "3        Michigan    2762"
      ]
     },
     "execution_count": 12,
     "metadata": {},
     "output_type": "execute_result"
    }
   ],
   "source": [
    "# https://sparkbyexamples.com/pandas/pandas-find-unique-values-from-columns/#:~:text=You%20can%20get%20unique%20values,to%20get%20from%20multiple%20columns.\n",
    "regions = list(df[\"Buyer Region\"].unique())\n",
    "data = []\n",
    "\n",
    "for x in regions:\n",
    "#     print(f\"{x}: {len(df[df['Buyer Region'] == x])}\")\n",
    "    count = len(df[df[\"Buyer Region\"] == x])\n",
    "    data.append([x, count])\n",
    "# https://pandas.pydata.org/docs/reference/api/pandas.DataFrame.html\n",
    "df_regions = pd.DataFrame(data, range(0,51), columns=[\"state\",\"amount\"])\n",
    "\n",
    "# https://pandas.pydata.org/docs/reference/api/pandas.DataFrame.sort_values.html\n",
    "df_regions.sort_values(\"amount\", ascending=False, kind=\"quicksort\").head(10)"
   ]
  },
  {
   "cell_type": "markdown",
   "id": "54e0110c",
   "metadata": {},
   "source": [
    "**Too many states for labels, but above for reference**"
   ]
  },
  {
   "cell_type": "code",
   "execution_count": 13,
   "id": "ebf5e0c0",
   "metadata": {},
   "outputs": [
    {
     "data": {
      "text/plain": [
       "<AxesSubplot:>"
      ]
     },
     "execution_count": 13,
     "metadata": {},
     "output_type": "execute_result"
    },
    {
     "data": {
      "image/png": "[encoded data removed]",
      "text/plain": [
       "<Figure size 640x480 with 1 Axes>"
      ]
     },
     "metadata": {},
     "output_type": "display_data"
    }
   ],
   "source": [
    "df_regions.plot.area()"
   ]
  },
  {
   "cell_type": "markdown",
   "id": "4ce1e1d4",
   "metadata": {},
   "source": [
    "**Before adding all the states as numerical values add if shoe is the off-white brand (aesthetics for df only)**"
   ]
  },
  {
   "cell_type": "code",
   "execution_count": 14,
   "id": "8c6b92ed",
   "metadata": {},
   "outputs": [
    {
     "data": {
      "text/html": [
       "<div>\n",
       "<style scoped>\n",
       "    .dataframe tbody tr th:only-of-type {\n",
       "        vertical-align: middle;\n",
       "    }\n",
       "\n",
       "    .dataframe tbody tr th {\n",
       "        vertical-align: top;\n",
       "    }\n",
       "\n",
       "    .dataframe thead th {\n",
       "        text-align: right;\n",
       "    }\n",
       "</style>\n",
       "<table border=\"1\" class=\"dataframe\">\n",
       "  <thead>\n",
       "    <tr style=\"text-align: right;\">\n",
       "      <th></th>\n",
       "      <th>Off-White</th>\n",
       "    </tr>\n",
       "  </thead>\n",
       "  <tbody>\n",
       "    <tr>\n",
       "      <th>0</th>\n",
       "      <td>0</td>\n",
       "    </tr>\n",
       "  </tbody>\n",
       "</table>\n",
       "</div>"
      ],
      "text/plain": [
       "   Off-White\n",
       "0          0"
      ]
     },
     "execution_count": 14,
     "metadata": {},
     "output_type": "execute_result"
    }
   ],
   "source": [
    "#https://www.geeksforgeeks.org/how-to-convert-categorical-variable-to-numeric-in-pandas/\n",
    "# df[\"Brand\"].replace([\"Yeezy\", \"Off-White\"], [0,1], inplace=True)\n",
    "\n",
    "is_yeezy_df = pd.get_dummies(df[\"Brand\"], drop_first=True)\n",
    "is_yeezy_df.head(1)"
   ]
  },
  {
   "cell_type": "code",
   "execution_count": 15,
   "id": "da336b1d",
   "metadata": {},
   "outputs": [
    {
     "data": {
      "text/html": [
       "<div>\n",
       "<style scoped>\n",
       "    .dataframe tbody tr th:only-of-type {\n",
       "        vertical-align: middle;\n",
       "    }\n",
       "\n",
       "    .dataframe tbody tr th {\n",
       "        vertical-align: top;\n",
       "    }\n",
       "\n",
       "    .dataframe thead th {\n",
       "        text-align: right;\n",
       "    }\n",
       "</style>\n",
       "<table border=\"1\" class=\"dataframe\">\n",
       "  <thead>\n",
       "    <tr style=\"text-align: right;\">\n",
       "      <th></th>\n",
       "      <th>Sneaker Name</th>\n",
       "      <th>Sale Price</th>\n",
       "      <th>Retail Price</th>\n",
       "      <th>Shoe Size</th>\n",
       "      <th>Buyer Region</th>\n",
       "      <th>R_Year</th>\n",
       "      <th>R_Month</th>\n",
       "      <th>R_Day</th>\n",
       "      <th>O_Year</th>\n",
       "      <th>O_Month</th>\n",
       "      <th>O_Day</th>\n",
       "    </tr>\n",
       "  </thead>\n",
       "  <tbody>\n",
       "    <tr>\n",
       "      <th>0</th>\n",
       "      <td>Adidas-Yeezy-Boost-350-Low-V2-Beluga</td>\n",
       "      <td>1097</td>\n",
       "      <td>220</td>\n",
       "      <td>11.0</td>\n",
       "      <td>California</td>\n",
       "      <td>2016</td>\n",
       "      <td>9</td>\n",
       "      <td>24</td>\n",
       "      <td>2017</td>\n",
       "      <td>9</td>\n",
       "      <td>1</td>\n",
       "    </tr>\n",
       "  </tbody>\n",
       "</table>\n",
       "</div>"
      ],
      "text/plain": [
       "                           Sneaker Name  Sale Price  Retail Price  Shoe Size  \\\n",
       "0  Adidas-Yeezy-Boost-350-Low-V2-Beluga        1097           220       11.0   \n",
       "\n",
       "  Buyer Region  R_Year  R_Month  R_Day  O_Year  O_Month  O_Day  \n",
       "0   California    2016        9     24    2017        9      1  "
      ]
     },
     "execution_count": 15,
     "metadata": {},
     "output_type": "execute_result"
    }
   ],
   "source": [
    "df.drop(\"Brand\", axis=1, inplace=True)\n",
    "df.head(1)"
   ]
  },
  {
   "cell_type": "code",
   "execution_count": 16,
   "id": "2677be4d",
   "metadata": {},
   "outputs": [
    {
     "data": {
      "text/html": [
       "<div>\n",
       "<style scoped>\n",
       "    .dataframe tbody tr th:only-of-type {\n",
       "        vertical-align: middle;\n",
       "    }\n",
       "\n",
       "    .dataframe tbody tr th {\n",
       "        vertical-align: top;\n",
       "    }\n",
       "\n",
       "    .dataframe thead th {\n",
       "        text-align: right;\n",
       "    }\n",
       "</style>\n",
       "<table border=\"1\" class=\"dataframe\">\n",
       "  <thead>\n",
       "    <tr style=\"text-align: right;\">\n",
       "      <th></th>\n",
       "      <th>Sneaker Name</th>\n",
       "      <th>Sale Price</th>\n",
       "      <th>Retail Price</th>\n",
       "      <th>Shoe Size</th>\n",
       "      <th>Buyer Region</th>\n",
       "      <th>R_Year</th>\n",
       "      <th>R_Month</th>\n",
       "      <th>R_Day</th>\n",
       "      <th>O_Year</th>\n",
       "      <th>O_Month</th>\n",
       "      <th>O_Day</th>\n",
       "      <th>Off-White</th>\n",
       "    </tr>\n",
       "  </thead>\n",
       "  <tbody>\n",
       "    <tr>\n",
       "      <th>0</th>\n",
       "      <td>Adidas-Yeezy-Boost-350-Low-V2-Beluga</td>\n",
       "      <td>1097</td>\n",
       "      <td>220</td>\n",
       "      <td>11.0</td>\n",
       "      <td>California</td>\n",
       "      <td>2016</td>\n",
       "      <td>9</td>\n",
       "      <td>24</td>\n",
       "      <td>2017</td>\n",
       "      <td>9</td>\n",
       "      <td>1</td>\n",
       "      <td>0</td>\n",
       "    </tr>\n",
       "  </tbody>\n",
       "</table>\n",
       "</div>"
      ],
      "text/plain": [
       "                           Sneaker Name  Sale Price  Retail Price  Shoe Size  \\\n",
       "0  Adidas-Yeezy-Boost-350-Low-V2-Beluga        1097           220       11.0   \n",
       "\n",
       "  Buyer Region  R_Year  R_Month  R_Day  O_Year  O_Month  O_Day  Off-White  \n",
       "0   California    2016        9     24    2017        9      1          0  "
      ]
     },
     "execution_count": 16,
     "metadata": {},
     "output_type": "execute_result"
    }
   ],
   "source": [
    "df = pd.concat([df, is_yeezy_df], axis=1)\n",
    "df.head(1)"
   ]
  },
  {
   "cell_type": "code",
   "execution_count": null,
   "id": "5aca9a32",
   "metadata": {},
   "outputs": [],
   "source": [
    "    "
   ]
  },
  {
   "cell_type": "markdown",
   "id": "3132dba3",
   "metadata": {},
   "source": [
    "**Start adding the states as numerical values**"
   ]
  },
  {
   "cell_type": "code",
   "execution_count": 17,
   "id": "b48b7c45",
   "metadata": {},
   "outputs": [
    {
     "data": {
      "text/html": [
       "<div>\n",
       "<style scoped>\n",
       "    .dataframe tbody tr th:only-of-type {\n",
       "        vertical-align: middle;\n",
       "    }\n",
       "\n",
       "    .dataframe tbody tr th {\n",
       "        vertical-align: top;\n",
       "    }\n",
       "\n",
       "    .dataframe thead th {\n",
       "        text-align: right;\n",
       "    }\n",
       "</style>\n",
       "<table border=\"1\" class=\"dataframe\">\n",
       "  <thead>\n",
       "    <tr style=\"text-align: right;\">\n",
       "      <th></th>\n",
       "      <th>Alaska</th>\n",
       "      <th>Arizona</th>\n",
       "      <th>Arkansas</th>\n",
       "      <th>California</th>\n",
       "      <th>Colorado</th>\n",
       "      <th>Connecticut</th>\n",
       "      <th>Delaware</th>\n",
       "      <th>District of Columbia</th>\n",
       "      <th>Florida</th>\n",
       "      <th>Georgia</th>\n",
       "      <th>...</th>\n",
       "      <th>South Dakota</th>\n",
       "      <th>Tennessee</th>\n",
       "      <th>Texas</th>\n",
       "      <th>Utah</th>\n",
       "      <th>Vermont</th>\n",
       "      <th>Virginia</th>\n",
       "      <th>Washington</th>\n",
       "      <th>West Virginia</th>\n",
       "      <th>Wisconsin</th>\n",
       "      <th>Wyoming</th>\n",
       "    </tr>\n",
       "  </thead>\n",
       "  <tbody>\n",
       "    <tr>\n",
       "      <th>0</th>\n",
       "      <td>0</td>\n",
       "      <td>0</td>\n",
       "      <td>0</td>\n",
       "      <td>1</td>\n",
       "      <td>0</td>\n",
       "      <td>0</td>\n",
       "      <td>0</td>\n",
       "      <td>0</td>\n",
       "      <td>0</td>\n",
       "      <td>0</td>\n",
       "      <td>...</td>\n",
       "      <td>0</td>\n",
       "      <td>0</td>\n",
       "      <td>0</td>\n",
       "      <td>0</td>\n",
       "      <td>0</td>\n",
       "      <td>0</td>\n",
       "      <td>0</td>\n",
       "      <td>0</td>\n",
       "      <td>0</td>\n",
       "      <td>0</td>\n",
       "    </tr>\n",
       "  </tbody>\n",
       "</table>\n",
       "<p>1 rows × 50 columns</p>\n",
       "</div>"
      ],
      "text/plain": [
       "   Alaska  Arizona  Arkansas  California  Colorado  Connecticut  Delaware  \\\n",
       "0       0        0         0           1         0            0         0   \n",
       "\n",
       "   District of Columbia  Florida  Georgia  ...  South Dakota  Tennessee  \\\n",
       "0                     0        0        0  ...             0          0   \n",
       "\n",
       "   Texas  Utah  Vermont  Virginia  Washington  West Virginia  Wisconsin  \\\n",
       "0      0     0        0         0           0              0          0   \n",
       "\n",
       "   Wyoming  \n",
       "0        0  \n",
       "\n",
       "[1 rows x 50 columns]"
      ]
     },
     "execution_count": 17,
     "metadata": {},
     "output_type": "execute_result"
    }
   ],
   "source": [
    "state_num = pd.get_dummies(df[\"Buyer Region\"], drop_first=True)\n",
    "state_num.head(1)"
   ]
  },
  {
   "cell_type": "code",
   "execution_count": 18,
   "id": "bf9ab158",
   "metadata": {},
   "outputs": [
    {
     "data": {
      "text/html": [
       "<div>\n",
       "<style scoped>\n",
       "    .dataframe tbody tr th:only-of-type {\n",
       "        vertical-align: middle;\n",
       "    }\n",
       "\n",
       "    .dataframe tbody tr th {\n",
       "        vertical-align: top;\n",
       "    }\n",
       "\n",
       "    .dataframe thead th {\n",
       "        text-align: right;\n",
       "    }\n",
       "</style>\n",
       "<table border=\"1\" class=\"dataframe\">\n",
       "  <thead>\n",
       "    <tr style=\"text-align: right;\">\n",
       "      <th></th>\n",
       "      <th>Sneaker Name</th>\n",
       "      <th>Sale Price</th>\n",
       "      <th>Retail Price</th>\n",
       "      <th>Shoe Size</th>\n",
       "      <th>Buyer Region</th>\n",
       "      <th>R_Year</th>\n",
       "      <th>R_Month</th>\n",
       "      <th>R_Day</th>\n",
       "      <th>O_Year</th>\n",
       "      <th>O_Month</th>\n",
       "      <th>...</th>\n",
       "      <th>South Dakota</th>\n",
       "      <th>Tennessee</th>\n",
       "      <th>Texas</th>\n",
       "      <th>Utah</th>\n",
       "      <th>Vermont</th>\n",
       "      <th>Virginia</th>\n",
       "      <th>Washington</th>\n",
       "      <th>West Virginia</th>\n",
       "      <th>Wisconsin</th>\n",
       "      <th>Wyoming</th>\n",
       "    </tr>\n",
       "  </thead>\n",
       "  <tbody>\n",
       "    <tr>\n",
       "      <th>0</th>\n",
       "      <td>Adidas-Yeezy-Boost-350-Low-V2-Beluga</td>\n",
       "      <td>1097</td>\n",
       "      <td>220</td>\n",
       "      <td>11.0</td>\n",
       "      <td>California</td>\n",
       "      <td>2016</td>\n",
       "      <td>9</td>\n",
       "      <td>24</td>\n",
       "      <td>2017</td>\n",
       "      <td>9</td>\n",
       "      <td>...</td>\n",
       "      <td>0</td>\n",
       "      <td>0</td>\n",
       "      <td>0</td>\n",
       "      <td>0</td>\n",
       "      <td>0</td>\n",
       "      <td>0</td>\n",
       "      <td>0</td>\n",
       "      <td>0</td>\n",
       "      <td>0</td>\n",
       "      <td>0</td>\n",
       "    </tr>\n",
       "  </tbody>\n",
       "</table>\n",
       "<p>1 rows × 62 columns</p>\n",
       "</div>"
      ],
      "text/plain": [
       "                           Sneaker Name  Sale Price  Retail Price  Shoe Size  \\\n",
       "0  Adidas-Yeezy-Boost-350-Low-V2-Beluga        1097           220       11.0   \n",
       "\n",
       "  Buyer Region  R_Year  R_Month  R_Day  O_Year  O_Month  ...  South Dakota  \\\n",
       "0   California    2016        9     24    2017        9  ...             0   \n",
       "\n",
       "   Tennessee  Texas  Utah  Vermont  Virginia  Washington  West Virginia  \\\n",
       "0          0      0     0        0         0           0              0   \n",
       "\n",
       "   Wisconsin  Wyoming  \n",
       "0          0        0  \n",
       "\n",
       "[1 rows x 62 columns]"
      ]
     },
     "execution_count": 18,
     "metadata": {},
     "output_type": "execute_result"
    }
   ],
   "source": [
    "df = pd.concat([df, state_num], axis=1)\n",
    "df.head(1)"
   ]
  },
  {
   "cell_type": "markdown",
   "id": "8eb1ac2b",
   "metadata": {},
   "source": [
    "**Drop buyer region, and ~Sneaker Name~ columns.\n",
    "Could probably use the features in it, but that would take additional analysis**"
   ]
  },
  {
   "cell_type": "code",
   "execution_count": 19,
   "id": "0830a48c",
   "metadata": {},
   "outputs": [],
   "source": [
    "df.drop([\"Buyer Region\"], axis=1, inplace=True)"
   ]
  },
  {
   "cell_type": "code",
   "execution_count": 20,
   "id": "74350d07",
   "metadata": {},
   "outputs": [
    {
     "data": {
      "text/html": [
       "<div>\n",
       "<style scoped>\n",
       "    .dataframe tbody tr th:only-of-type {\n",
       "        vertical-align: middle;\n",
       "    }\n",
       "\n",
       "    .dataframe tbody tr th {\n",
       "        vertical-align: top;\n",
       "    }\n",
       "\n",
       "    .dataframe thead th {\n",
       "        text-align: right;\n",
       "    }\n",
       "</style>\n",
       "<table border=\"1\" class=\"dataframe\">\n",
       "  <thead>\n",
       "    <tr style=\"text-align: right;\">\n",
       "      <th></th>\n",
       "      <th>Sneaker Name</th>\n",
       "      <th>Sale Price</th>\n",
       "      <th>Retail Price</th>\n",
       "      <th>Shoe Size</th>\n",
       "      <th>R_Year</th>\n",
       "      <th>R_Month</th>\n",
       "      <th>R_Day</th>\n",
       "      <th>O_Year</th>\n",
       "      <th>O_Month</th>\n",
       "      <th>O_Day</th>\n",
       "      <th>...</th>\n",
       "      <th>South Dakota</th>\n",
       "      <th>Tennessee</th>\n",
       "      <th>Texas</th>\n",
       "      <th>Utah</th>\n",
       "      <th>Vermont</th>\n",
       "      <th>Virginia</th>\n",
       "      <th>Washington</th>\n",
       "      <th>West Virginia</th>\n",
       "      <th>Wisconsin</th>\n",
       "      <th>Wyoming</th>\n",
       "    </tr>\n",
       "  </thead>\n",
       "  <tbody>\n",
       "    <tr>\n",
       "      <th>0</th>\n",
       "      <td>Adidas-Yeezy-Boost-350-Low-V2-Beluga</td>\n",
       "      <td>1097</td>\n",
       "      <td>220</td>\n",
       "      <td>11.0</td>\n",
       "      <td>2016</td>\n",
       "      <td>9</td>\n",
       "      <td>24</td>\n",
       "      <td>2017</td>\n",
       "      <td>9</td>\n",
       "      <td>1</td>\n",
       "      <td>...</td>\n",
       "      <td>0</td>\n",
       "      <td>0</td>\n",
       "      <td>0</td>\n",
       "      <td>0</td>\n",
       "      <td>0</td>\n",
       "      <td>0</td>\n",
       "      <td>0</td>\n",
       "      <td>0</td>\n",
       "      <td>0</td>\n",
       "      <td>0</td>\n",
       "    </tr>\n",
       "  </tbody>\n",
       "</table>\n",
       "<p>1 rows × 61 columns</p>\n",
       "</div>"
      ],
      "text/plain": [
       "                           Sneaker Name  Sale Price  Retail Price  Shoe Size  \\\n",
       "0  Adidas-Yeezy-Boost-350-Low-V2-Beluga        1097           220       11.0   \n",
       "\n",
       "   R_Year  R_Month  R_Day  O_Year  O_Month  O_Day  ...  South Dakota  \\\n",
       "0    2016        9     24    2017        9      1  ...             0   \n",
       "\n",
       "   Tennessee  Texas  Utah  Vermont  Virginia  Washington  West Virginia  \\\n",
       "0          0      0     0        0         0           0              0   \n",
       "\n",
       "   Wisconsin  Wyoming  \n",
       "0          0        0  \n",
       "\n",
       "[1 rows x 61 columns]"
      ]
     },
     "execution_count": 20,
     "metadata": {},
     "output_type": "execute_result"
    }
   ],
   "source": [
    "df.head(1)"
   ]
  },
  {
   "cell_type": "code",
   "execution_count": null,
   "id": "4919aa8f",
   "metadata": {},
   "outputs": [],
   "source": [
    "            "
   ]
  },
  {
   "cell_type": "code",
   "execution_count": null,
   "id": "048d940c",
   "metadata": {},
   "outputs": [],
   "source": []
  },
  {
   "cell_type": "markdown",
   "id": "8f168bc2",
   "metadata": {},
   "source": [
    "**Describe the data**"
   ]
  },
  {
   "cell_type": "code",
   "execution_count": 21,
   "id": "43adc9a0",
   "metadata": {},
   "outputs": [
    {
     "data": {
      "text/html": [
       "<div>\n",
       "<style scoped>\n",
       "    .dataframe tbody tr th:only-of-type {\n",
       "        vertical-align: middle;\n",
       "    }\n",
       "\n",
       "    .dataframe tbody tr th {\n",
       "        vertical-align: top;\n",
       "    }\n",
       "\n",
       "    .dataframe thead th {\n",
       "        text-align: right;\n",
       "    }\n",
       "</style>\n",
       "<table border=\"1\" class=\"dataframe\">\n",
       "  <thead>\n",
       "    <tr style=\"text-align: right;\">\n",
       "      <th></th>\n",
       "      <th>Sale Price</th>\n",
       "      <th>Retail Price</th>\n",
       "      <th>Shoe Size</th>\n",
       "      <th>R_Year</th>\n",
       "      <th>R_Month</th>\n",
       "      <th>R_Day</th>\n",
       "      <th>O_Year</th>\n",
       "      <th>O_Month</th>\n",
       "      <th>O_Day</th>\n",
       "      <th>Off-White</th>\n",
       "      <th>...</th>\n",
       "      <th>South Dakota</th>\n",
       "      <th>Tennessee</th>\n",
       "      <th>Texas</th>\n",
       "      <th>Utah</th>\n",
       "      <th>Vermont</th>\n",
       "      <th>Virginia</th>\n",
       "      <th>Washington</th>\n",
       "      <th>West Virginia</th>\n",
       "      <th>Wisconsin</th>\n",
       "      <th>Wyoming</th>\n",
       "    </tr>\n",
       "  </thead>\n",
       "  <tbody>\n",
       "    <tr>\n",
       "      <th>count</th>\n",
       "      <td>99956.000000</td>\n",
       "      <td>99956.00000</td>\n",
       "      <td>99956.000000</td>\n",
       "      <td>99956.000000</td>\n",
       "      <td>99956.000000</td>\n",
       "      <td>99956.000000</td>\n",
       "      <td>99956.000000</td>\n",
       "      <td>99956.000000</td>\n",
       "      <td>99956.000000</td>\n",
       "      <td>99956.000000</td>\n",
       "      <td>...</td>\n",
       "      <td>99956.000000</td>\n",
       "      <td>99956.000000</td>\n",
       "      <td>99956.000000</td>\n",
       "      <td>99956.000000</td>\n",
       "      <td>99956.000000</td>\n",
       "      <td>99956.000000</td>\n",
       "      <td>99956.000000</td>\n",
       "      <td>99956.000000</td>\n",
       "      <td>99956.000000</td>\n",
       "      <td>99956.0000</td>\n",
       "    </tr>\n",
       "    <tr>\n",
       "      <th>mean</th>\n",
       "      <td>446.634719</td>\n",
       "      <td>208.61359</td>\n",
       "      <td>9.344181</td>\n",
       "      <td>2017.467246</td>\n",
       "      <td>8.052243</td>\n",
       "      <td>21.673696</td>\n",
       "      <td>2018.029013</td>\n",
       "      <td>7.532654</td>\n",
       "      <td>16.150686</td>\n",
       "      <td>0.278062</td>\n",
       "      <td>...</td>\n",
       "      <td>0.000550</td>\n",
       "      <td>0.007313</td>\n",
       "      <td>0.058786</td>\n",
       "      <td>0.004502</td>\n",
       "      <td>0.000840</td>\n",
       "      <td>0.020589</td>\n",
       "      <td>0.018638</td>\n",
       "      <td>0.001661</td>\n",
       "      <td>0.008404</td>\n",
       "      <td>0.0004</td>\n",
       "    </tr>\n",
       "    <tr>\n",
       "      <th>std</th>\n",
       "      <td>255.982969</td>\n",
       "      <td>25.20001</td>\n",
       "      <td>2.329588</td>\n",
       "      <td>0.579352</td>\n",
       "      <td>3.612667</td>\n",
       "      <td>7.805765</td>\n",
       "      <td>0.542357</td>\n",
       "      <td>4.089962</td>\n",
       "      <td>9.085088</td>\n",
       "      <td>0.448047</td>\n",
       "      <td>...</td>\n",
       "      <td>0.023451</td>\n",
       "      <td>0.085205</td>\n",
       "      <td>0.235225</td>\n",
       "      <td>0.066946</td>\n",
       "      <td>0.028977</td>\n",
       "      <td>0.142005</td>\n",
       "      <td>0.135244</td>\n",
       "      <td>0.040718</td>\n",
       "      <td>0.091286</td>\n",
       "      <td>0.0200</td>\n",
       "    </tr>\n",
       "    <tr>\n",
       "      <th>min</th>\n",
       "      <td>186.000000</td>\n",
       "      <td>130.00000</td>\n",
       "      <td>3.500000</td>\n",
       "      <td>2015.000000</td>\n",
       "      <td>2.000000</td>\n",
       "      <td>1.000000</td>\n",
       "      <td>2017.000000</td>\n",
       "      <td>1.000000</td>\n",
       "      <td>1.000000</td>\n",
       "      <td>0.000000</td>\n",
       "      <td>...</td>\n",
       "      <td>0.000000</td>\n",
       "      <td>0.000000</td>\n",
       "      <td>0.000000</td>\n",
       "      <td>0.000000</td>\n",
       "      <td>0.000000</td>\n",
       "      <td>0.000000</td>\n",
       "      <td>0.000000</td>\n",
       "      <td>0.000000</td>\n",
       "      <td>0.000000</td>\n",
       "      <td>0.0000</td>\n",
       "    </tr>\n",
       "    <tr>\n",
       "      <th>25%</th>\n",
       "      <td>275.000000</td>\n",
       "      <td>220.00000</td>\n",
       "      <td>8.000000</td>\n",
       "      <td>2017.000000</td>\n",
       "      <td>6.000000</td>\n",
       "      <td>16.000000</td>\n",
       "      <td>2018.000000</td>\n",
       "      <td>3.000000</td>\n",
       "      <td>8.000000</td>\n",
       "      <td>0.000000</td>\n",
       "      <td>...</td>\n",
       "      <td>0.000000</td>\n",
       "      <td>0.000000</td>\n",
       "      <td>0.000000</td>\n",
       "      <td>0.000000</td>\n",
       "      <td>0.000000</td>\n",
       "      <td>0.000000</td>\n",
       "      <td>0.000000</td>\n",
       "      <td>0.000000</td>\n",
       "      <td>0.000000</td>\n",
       "      <td>0.0000</td>\n",
       "    </tr>\n",
       "    <tr>\n",
       "      <th>50%</th>\n",
       "      <td>370.000000</td>\n",
       "      <td>220.00000</td>\n",
       "      <td>9.500000</td>\n",
       "      <td>2017.000000</td>\n",
       "      <td>9.000000</td>\n",
       "      <td>25.000000</td>\n",
       "      <td>2018.000000</td>\n",
       "      <td>8.000000</td>\n",
       "      <td>16.000000</td>\n",
       "      <td>0.000000</td>\n",
       "      <td>...</td>\n",
       "      <td>0.000000</td>\n",
       "      <td>0.000000</td>\n",
       "      <td>0.000000</td>\n",
       "      <td>0.000000</td>\n",
       "      <td>0.000000</td>\n",
       "      <td>0.000000</td>\n",
       "      <td>0.000000</td>\n",
       "      <td>0.000000</td>\n",
       "      <td>0.000000</td>\n",
       "      <td>0.0000</td>\n",
       "    </tr>\n",
       "    <tr>\n",
       "      <th>75%</th>\n",
       "      <td>540.000000</td>\n",
       "      <td>220.00000</td>\n",
       "      <td>11.000000</td>\n",
       "      <td>2018.000000</td>\n",
       "      <td>11.000000</td>\n",
       "      <td>27.000000</td>\n",
       "      <td>2018.000000</td>\n",
       "      <td>11.000000</td>\n",
       "      <td>24.000000</td>\n",
       "      <td>1.000000</td>\n",
       "      <td>...</td>\n",
       "      <td>0.000000</td>\n",
       "      <td>0.000000</td>\n",
       "      <td>0.000000</td>\n",
       "      <td>0.000000</td>\n",
       "      <td>0.000000</td>\n",
       "      <td>0.000000</td>\n",
       "      <td>0.000000</td>\n",
       "      <td>0.000000</td>\n",
       "      <td>0.000000</td>\n",
       "      <td>0.0000</td>\n",
       "    </tr>\n",
       "    <tr>\n",
       "      <th>max</th>\n",
       "      <td>4050.000000</td>\n",
       "      <td>250.00000</td>\n",
       "      <td>17.000000</td>\n",
       "      <td>2019.000000</td>\n",
       "      <td>12.000000</td>\n",
       "      <td>30.000000</td>\n",
       "      <td>2019.000000</td>\n",
       "      <td>12.000000</td>\n",
       "      <td>31.000000</td>\n",
       "      <td>1.000000</td>\n",
       "      <td>...</td>\n",
       "      <td>1.000000</td>\n",
       "      <td>1.000000</td>\n",
       "      <td>1.000000</td>\n",
       "      <td>1.000000</td>\n",
       "      <td>1.000000</td>\n",
       "      <td>1.000000</td>\n",
       "      <td>1.000000</td>\n",
       "      <td>1.000000</td>\n",
       "      <td>1.000000</td>\n",
       "      <td>1.0000</td>\n",
       "    </tr>\n",
       "  </tbody>\n",
       "</table>\n",
       "<p>8 rows × 60 columns</p>\n",
       "</div>"
      ],
      "text/plain": [
       "         Sale Price  Retail Price     Shoe Size        R_Year       R_Month  \\\n",
       "count  99956.000000   99956.00000  99956.000000  99956.000000  99956.000000   \n",
       "mean     446.634719     208.61359      9.344181   2017.467246      8.052243   \n",
       "std      255.982969      25.20001      2.329588      0.579352      3.612667   \n",
       "min      186.000000     130.00000      3.500000   2015.000000      2.000000   \n",
       "25%      275.000000     220.00000      8.000000   2017.000000      6.000000   \n",
       "50%      370.000000     220.00000      9.500000   2017.000000      9.000000   \n",
       "75%      540.000000     220.00000     11.000000   2018.000000     11.000000   \n",
       "max     4050.000000     250.00000     17.000000   2019.000000     12.000000   \n",
       "\n",
       "              R_Day        O_Year       O_Month         O_Day     Off-White  \\\n",
       "count  99956.000000  99956.000000  99956.000000  99956.000000  99956.000000   \n",
       "mean      21.673696   2018.029013      7.532654     16.150686      0.278062   \n",
       "std        7.805765      0.542357      4.089962      9.085088      0.448047   \n",
       "min        1.000000   2017.000000      1.000000      1.000000      0.000000   \n",
       "25%       16.000000   2018.000000      3.000000      8.000000      0.000000   \n",
       "50%       25.000000   2018.000000      8.000000     16.000000      0.000000   \n",
       "75%       27.000000   2018.000000     11.000000     24.000000      1.000000   \n",
       "max       30.000000   2019.000000     12.000000     31.000000      1.000000   \n",
       "\n",
       "       ...  South Dakota     Tennessee         Texas          Utah  \\\n",
       "count  ...  99956.000000  99956.000000  99956.000000  99956.000000   \n",
       "mean   ...      0.000550      0.007313      0.058786      0.004502   \n",
       "std    ...      0.023451      0.085205      0.235225      0.066946   \n",
       "min    ...      0.000000      0.000000      0.000000      0.000000   \n",
       "25%    ...      0.000000      0.000000      0.000000      0.000000   \n",
       "50%    ...      0.000000      0.000000      0.000000      0.000000   \n",
       "75%    ...      0.000000      0.000000      0.000000      0.000000   \n",
       "max    ...      1.000000      1.000000      1.000000      1.000000   \n",
       "\n",
       "            Vermont      Virginia    Washington  West Virginia     Wisconsin  \\\n",
       "count  99956.000000  99956.000000  99956.000000   99956.000000  99956.000000   \n",
       "mean       0.000840      0.020589      0.018638       0.001661      0.008404   \n",
       "std        0.028977      0.142005      0.135244       0.040718      0.091286   \n",
       "min        0.000000      0.000000      0.000000       0.000000      0.000000   \n",
       "25%        0.000000      0.000000      0.000000       0.000000      0.000000   \n",
       "50%        0.000000      0.000000      0.000000       0.000000      0.000000   \n",
       "75%        0.000000      0.000000      0.000000       0.000000      0.000000   \n",
       "max        1.000000      1.000000      1.000000       1.000000      1.000000   \n",
       "\n",
       "          Wyoming  \n",
       "count  99956.0000  \n",
       "mean       0.0004  \n",
       "std        0.0200  \n",
       "min        0.0000  \n",
       "25%        0.0000  \n",
       "50%        0.0000  \n",
       "75%        0.0000  \n",
       "max        1.0000  \n",
       "\n",
       "[8 rows x 60 columns]"
      ]
     },
     "execution_count": 21,
     "metadata": {},
     "output_type": "execute_result"
    }
   ],
   "source": [
    "df.describe()"
   ]
  },
  {
   "cell_type": "markdown",
   "id": "34e31e66",
   "metadata": {},
   "source": [
    "- 75% of sale prices are under $540\n",
    "- 75% of shoe sizes are under 11\n",
    "- The mean for Order day is the 22nd day of the month. People get checks bi-weekly. Usually every other Friday.\n",
    "- The mean for Order month is the 8th month, (back to school sales?)\n",
    "- The mean for Release day also the 22nd dat of the month, coincidence(no)\n",
    "- The mean for Release month is the 8th month, no coincidence here\n",
    "- Cant really look at years, or retail price since this data pertains to off-whites and yeezy's only\n",
    "- Off white sales accounted for about 28% of total sales for this dataset"
   ]
  },
  {
   "cell_type": "markdown",
   "id": "c71fcdbd",
   "metadata": {},
   "source": [
    "**Visualize some of the described data**"
   ]
  },
  {
   "cell_type": "code",
   "execution_count": 22,
   "id": "b538b328",
   "metadata": {},
   "outputs": [
    {
     "data": {
      "text/plain": [
       "Text(0, 0.5, 'Count')"
      ]
     },
     "execution_count": 22,
     "metadata": {},
     "output_type": "execute_result"
    },
    {
     "data": {
      "image/png": "[encoded data removed]",
      "text/plain": [
       "<Figure size 640x480 with 1 Axes>"
      ]
     },
     "metadata": {},
     "output_type": "display_data"
    }
   ],
   "source": [
    "groupby_months = df.groupby(\"R_Month\")\n",
    "aggr_count = groupby_months.count()\n",
    "sns.set_style(\"darkgrid\")\n",
    "# https://stackoverflow.com/questions/31632637/label-axes-on-seaborn-barplot\n",
    "fig = sns.lineplot(x=\"R_Month\",y=\"Off-White\", data=aggr_count)\n",
    "plt.title(\"Count vs. Release Month\")\n",
    "plt.ylabel(\"Count\")"
   ]
  },
  {
   "cell_type": "code",
   "execution_count": 23,
   "id": "fdb0679e",
   "metadata": {
    "scrolled": true
   },
   "outputs": [
    {
     "data": {
      "text/plain": [
       "Text(0, 0.5, 'Count')"
      ]
     },
     "execution_count": 23,
     "metadata": {},
     "output_type": "execute_result"
    },
    {
     "data": {
      "image/png": "[encoded data removed]",
      "text/plain": [
       "<Figure size 640x480 with 1 Axes>"
      ]
     },
     "metadata": {},
     "output_type": "display_data"
    }
   ],
   "source": [
    "groupby_order_m = df.groupby(\"O_Month\")\n",
    "aggr_2 = groupby_order_m.count()\n",
    "fig = sns.lineplot(x=\"O_Month\", y=\"Off-White\", data=aggr_2)\n",
    "plt.title(\"Count vs. Order Month\")\n",
    "plt.ylabel(\"Count\")"
   ]
  },
  {
   "cell_type": "code",
   "execution_count": 24,
   "id": "66c4b893",
   "metadata": {},
   "outputs": [
    {
     "data": {
      "text/plain": [
       "Text(0, 0.5, 'Count')"
      ]
     },
     "execution_count": 24,
     "metadata": {},
     "output_type": "execute_result"
    },
    {
     "data": {
      "image/png": "[encoded data removed]",
      "text/plain": [
       "<Figure size 640x480 with 1 Axes>"
      ]
     },
     "metadata": {},
     "output_type": "display_data"
    }
   ],
   "source": [
    "groupby_days = df.groupby(\"R_Day\")\n",
    "aggr_3 = groupby_days.count()\n",
    "fig = sns.lineplot(x=\"R_Day\", y=\"Off-White\", data=aggr_3)\n",
    "plt.title(\"Count vs. Release Day\")\n",
    "plt.ylabel(\"Count\")"
   ]
  },
  {
   "cell_type": "code",
   "execution_count": 25,
   "id": "1ae752af",
   "metadata": {},
   "outputs": [
    {
     "data": {
      "text/plain": [
       "Text(0, 0.5, 'Count')"
      ]
     },
     "execution_count": 25,
     "metadata": {},
     "output_type": "execute_result"
    },
    {
     "data": {
      "image/png": "[encoded data removed]",
      "text/plain": [
       "<Figure size 640x480 with 1 Axes>"
      ]
     },
     "metadata": {},
     "output_type": "display_data"
    }
   ],
   "source": [
    "groupby_o_day = df.groupby(\"O_Day\")\n",
    "aggr_4 = groupby_o_day.count()\n",
    "fig = sns.lineplot(x=\"O_Day\", y=\"Off-White\", data=aggr_4)\n",
    "plt.title(\"Count vs. Order Day\")\n",
    "plt.ylabel(\"Count\")\n",
    "# Here you can see that the sharp spike is prolonged, as not everyone has the same payday"
   ]
  },
  {
   "cell_type": "code",
   "execution_count": 26,
   "id": "71f07446",
   "metadata": {},
   "outputs": [
    {
     "data": {
      "text/plain": [
       "<AxesSubplot:xlabel='O_Month', ylabel='Sale Price'>"
      ]
     },
     "execution_count": 26,
     "metadata": {},
     "output_type": "execute_result"
    },
    {
     "data": {
      "image/png": "[encoded data removed]",
      "text/plain": [
       "<Figure size 640x480 with 1 Axes>"
      ]
     },
     "metadata": {},
     "output_type": "display_data"
    }
   ],
   "source": [
    "# People saving money for holiday gifts, can't spend a lot on everyone\n",
    "sns.lineplot(x=\"O_Month\", y=\"Sale Price\", data=df)"
   ]
  },
  {
   "cell_type": "code",
   "execution_count": 27,
   "id": "94a0acce",
   "metadata": {},
   "outputs": [
    {
     "data": {
      "text/plain": [
       "<AxesSubplot:xlabel='R_Month', ylabel='Retail Price'>"
      ]
     },
     "execution_count": 27,
     "metadata": {},
     "output_type": "execute_result"
    },
    {
     "data": {
      "image/png": "[encoded data removed]",
      "text/plain": [
       "<Figure size 640x480 with 1 Axes>"
      ]
     },
     "metadata": {},
     "output_type": "display_data"
    }
   ],
   "source": [
    "# Is this Adidas and Nike trying to avoid releasing shoes at the same time?\n",
    "# Jordans are 160 at most, Yeezys sit at 220, some models more expensive\n",
    "sns.lineplot(x=\"R_Month\", y=\"Retail Price\", data=df)"
   ]
  },
  {
   "cell_type": "markdown",
   "id": "c72f9307",
   "metadata": {},
   "source": [
    "### Afterthoughts (after training model)\n",
    "**After training the linear model, results from metrics were bad. Yes some values are \n",
    "predicted really closely. But if I wanted to resell shoes based on my current model, I would go broke**"
   ]
  },
  {
   "cell_type": "code",
   "execution_count": 28,
   "id": "30ce3eea",
   "metadata": {},
   "outputs": [],
   "source": [
    "# Lets try using the name of the shoe now, that we added back the column by running the cells again\n",
    "df[\"is_V2\"] = df[\"Sneaker Name\"].apply(lambda x: int(x.__contains__(\"V2\")))"
   ]
  },
  {
   "cell_type": "code",
   "execution_count": 29,
   "id": "a0b9c9ee",
   "metadata": {},
   "outputs": [
    {
     "data": {
      "text/html": [
       "<div>\n",
       "<style scoped>\n",
       "    .dataframe tbody tr th:only-of-type {\n",
       "        vertical-align: middle;\n",
       "    }\n",
       "\n",
       "    .dataframe tbody tr th {\n",
       "        vertical-align: top;\n",
       "    }\n",
       "\n",
       "    .dataframe thead th {\n",
       "        text-align: right;\n",
       "    }\n",
       "</style>\n",
       "<table border=\"1\" class=\"dataframe\">\n",
       "  <thead>\n",
       "    <tr style=\"text-align: right;\">\n",
       "      <th></th>\n",
       "      <th>Sneaker Name</th>\n",
       "      <th>Sale Price</th>\n",
       "      <th>Retail Price</th>\n",
       "      <th>Shoe Size</th>\n",
       "      <th>R_Year</th>\n",
       "      <th>R_Month</th>\n",
       "      <th>R_Day</th>\n",
       "      <th>O_Year</th>\n",
       "      <th>O_Month</th>\n",
       "      <th>O_Day</th>\n",
       "      <th>...</th>\n",
       "      <th>Tennessee</th>\n",
       "      <th>Texas</th>\n",
       "      <th>Utah</th>\n",
       "      <th>Vermont</th>\n",
       "      <th>Virginia</th>\n",
       "      <th>Washington</th>\n",
       "      <th>West Virginia</th>\n",
       "      <th>Wisconsin</th>\n",
       "      <th>Wyoming</th>\n",
       "      <th>is_V2</th>\n",
       "    </tr>\n",
       "  </thead>\n",
       "  <tbody>\n",
       "    <tr>\n",
       "      <th>0</th>\n",
       "      <td>Adidas-Yeezy-Boost-350-Low-V2-Beluga</td>\n",
       "      <td>1097</td>\n",
       "      <td>220</td>\n",
       "      <td>11.0</td>\n",
       "      <td>2016</td>\n",
       "      <td>9</td>\n",
       "      <td>24</td>\n",
       "      <td>2017</td>\n",
       "      <td>9</td>\n",
       "      <td>1</td>\n",
       "      <td>...</td>\n",
       "      <td>0</td>\n",
       "      <td>0</td>\n",
       "      <td>0</td>\n",
       "      <td>0</td>\n",
       "      <td>0</td>\n",
       "      <td>0</td>\n",
       "      <td>0</td>\n",
       "      <td>0</td>\n",
       "      <td>0</td>\n",
       "      <td>1</td>\n",
       "    </tr>\n",
       "  </tbody>\n",
       "</table>\n",
       "<p>1 rows × 62 columns</p>\n",
       "</div>"
      ],
      "text/plain": [
       "                           Sneaker Name  Sale Price  Retail Price  Shoe Size  \\\n",
       "0  Adidas-Yeezy-Boost-350-Low-V2-Beluga        1097           220       11.0   \n",
       "\n",
       "   R_Year  R_Month  R_Day  O_Year  O_Month  O_Day  ...  Tennessee  Texas  \\\n",
       "0    2016        9     24    2017        9      1  ...          0      0   \n",
       "\n",
       "   Utah  Vermont  Virginia  Washington  West Virginia  Wisconsin  Wyoming  \\\n",
       "0     0        0         0           0              0          0        0   \n",
       "\n",
       "   is_V2  \n",
       "0      1  \n",
       "\n",
       "[1 rows x 62 columns]"
      ]
     },
     "execution_count": 29,
     "metadata": {},
     "output_type": "execute_result"
    }
   ],
   "source": [
    "df.head(1)"
   ]
  },
  {
   "cell_type": "code",
   "execution_count": 30,
   "id": "8a28b339",
   "metadata": {},
   "outputs": [],
   "source": [
    "# factor out some features that might help (only common names) (mostly nike stuff)\n",
    "df[\"is_nike\"] = df[\"Sneaker Name\"].apply(lambda x: int(x.__contains__(\"Nike\")))\n",
    "df[\"is_adidas\"] = df[\"Sneaker Name\"].apply(lambda x: int(x.__contains__(\"Adidas\")))\n",
    "df[\"is_airmax\"] = df[\"Sneaker Name\"].apply(lambda x: int(x.__contains__(\"Max\")))\n",
    "df[\"is_jordan\"] = df[\"Sneaker Name\"].apply(lambda x: int(x.__contains__(\"Jordan-1\")))\n",
    "df[\"is_vapormax\"] = df[\"Sneaker Name\"].apply(lambda x: int(x.__contains__(\"VaporMax\")))\n",
    "df[\"is_blazer\"] = df[\"Sneaker Name\"].apply(lambda x: int(x.__contains__(\"Blazer\")))\n",
    "df[\"is_presto\"] = df[\"Sneaker Name\"].apply(lambda x: int(x.__contains__(\"Presto\")))"
   ]
  },
  {
   "cell_type": "code",
   "execution_count": 31,
   "id": "31099c1b",
   "metadata": {},
   "outputs": [
    {
     "data": {
      "text/html": [
       "<div>\n",
       "<style scoped>\n",
       "    .dataframe tbody tr th:only-of-type {\n",
       "        vertical-align: middle;\n",
       "    }\n",
       "\n",
       "    .dataframe tbody tr th {\n",
       "        vertical-align: top;\n",
       "    }\n",
       "\n",
       "    .dataframe thead th {\n",
       "        text-align: right;\n",
       "    }\n",
       "</style>\n",
       "<table border=\"1\" class=\"dataframe\">\n",
       "  <thead>\n",
       "    <tr style=\"text-align: right;\">\n",
       "      <th></th>\n",
       "      <th>Sneaker Name</th>\n",
       "      <th>Sale Price</th>\n",
       "      <th>Retail Price</th>\n",
       "      <th>Shoe Size</th>\n",
       "      <th>R_Year</th>\n",
       "      <th>R_Month</th>\n",
       "      <th>R_Day</th>\n",
       "      <th>O_Year</th>\n",
       "      <th>O_Month</th>\n",
       "      <th>O_Day</th>\n",
       "      <th>...</th>\n",
       "      <th>Wisconsin</th>\n",
       "      <th>Wyoming</th>\n",
       "      <th>is_V2</th>\n",
       "      <th>is_nike</th>\n",
       "      <th>is_adidas</th>\n",
       "      <th>is_airmax</th>\n",
       "      <th>is_jordan</th>\n",
       "      <th>is_vapormax</th>\n",
       "      <th>is_blazer</th>\n",
       "      <th>is_presto</th>\n",
       "    </tr>\n",
       "  </thead>\n",
       "  <tbody>\n",
       "    <tr>\n",
       "      <th>0</th>\n",
       "      <td>Adidas-Yeezy-Boost-350-Low-V2-Beluga</td>\n",
       "      <td>1097</td>\n",
       "      <td>220</td>\n",
       "      <td>11.0</td>\n",
       "      <td>2016</td>\n",
       "      <td>9</td>\n",
       "      <td>24</td>\n",
       "      <td>2017</td>\n",
       "      <td>9</td>\n",
       "      <td>1</td>\n",
       "      <td>...</td>\n",
       "      <td>0</td>\n",
       "      <td>0</td>\n",
       "      <td>1</td>\n",
       "      <td>0</td>\n",
       "      <td>1</td>\n",
       "      <td>0</td>\n",
       "      <td>0</td>\n",
       "      <td>0</td>\n",
       "      <td>0</td>\n",
       "      <td>0</td>\n",
       "    </tr>\n",
       "  </tbody>\n",
       "</table>\n",
       "<p>1 rows × 69 columns</p>\n",
       "</div>"
      ],
      "text/plain": [
       "                           Sneaker Name  Sale Price  Retail Price  Shoe Size  \\\n",
       "0  Adidas-Yeezy-Boost-350-Low-V2-Beluga        1097           220       11.0   \n",
       "\n",
       "   R_Year  R_Month  R_Day  O_Year  O_Month  O_Day  ...  Wisconsin  Wyoming  \\\n",
       "0    2016        9     24    2017        9      1  ...          0        0   \n",
       "\n",
       "   is_V2  is_nike  is_adidas  is_airmax  is_jordan  is_vapormax  is_blazer  \\\n",
       "0      1        0          1          0          0            0          0   \n",
       "\n",
       "   is_presto  \n",
       "0          0  \n",
       "\n",
       "[1 rows x 69 columns]"
      ]
     },
     "execution_count": 31,
     "metadata": {},
     "output_type": "execute_result"
    }
   ],
   "source": [
    "df.head(1)"
   ]
  },
  {
   "cell_type": "markdown",
   "id": "6c713b98",
   "metadata": {},
   "source": [
    "**Seems to be working, don't use states columns as they don't seem to affect results anyway**"
   ]
  },
  {
   "cell_type": "code",
   "execution_count": 32,
   "id": "299947ff",
   "metadata": {},
   "outputs": [
    {
     "data": {
      "text/plain": [
       "['Adidas-Yeezy-Boost-350-Low-V2-Beluga',\n",
       " 'Adidas-Yeezy-Boost-350-V2-Core-Black-Copper',\n",
       " 'Adidas-Yeezy-Boost-350-V2-Core-Black-Green',\n",
       " 'Adidas-Yeezy-Boost-350-V2-Core-Black-Red',\n",
       " 'Adidas-Yeezy-Boost-350-V2-Core-Black-Red-2017',\n",
       " 'Adidas-Yeezy-Boost-350-V2-Core-Black-White',\n",
       " 'Adidas-Yeezy-Boost-350-V2-Cream-White',\n",
       " 'Adidas-Yeezy-Boost-350-V2-Zebra',\n",
       " 'Adidas-Yeezy-Boost-350-Low-Moonrock',\n",
       " 'Nike-Air-Max-90-Off-White',\n",
       " 'Nike-Air-Presto-Off-White',\n",
       " 'Nike-Air-VaporMax-Off-White',\n",
       " 'Air-Jordan-1-Retro-High-Off-White-Chicago',\n",
       " 'Nike-Blazer-Mid-Off-White',\n",
       " 'Adidas-Yeezy-Boost-350-Low-Pirate-Black-2016',\n",
       " 'Adidas-Yeezy-Boost-350-Low-Oxford-Tan',\n",
       " 'Adidas-Yeezy-Boost-350-Low-Turtledove',\n",
       " 'Adidas-Yeezy-Boost-350-Low-Pirate-Black-2015',\n",
       " 'Adidas-Yeezy-Boost-350-V2-Semi-Frozen-Yellow',\n",
       " 'Nike-Air-Force-1-Low-Off-White',\n",
       " 'Nike-Air-Max-97-Off-White',\n",
       " 'Nike-Air-Force-1-Low-Virgil-Abloh-Off-White-AF100',\n",
       " 'Nike-React-Hyperdunk-2017-Flyknit-Off-White',\n",
       " 'Nike-Zoom-Fly-Off-White',\n",
       " 'Adidas-Yeezy-Boost-350-V2-Beluga-2pt0',\n",
       " 'Adidas-Yeezy-Boost-350-V2-Blue-Tint',\n",
       " 'Nike-Air-VaporMax-Off-White-2018',\n",
       " 'Air-Jordan-1-Retro-High-Off-White-White',\n",
       " 'Nike-Air-VaporMax-Off-White-Black',\n",
       " 'Air-Jordan-1-Retro-High-Off-White-University-Blue',\n",
       " 'Nike-Air-Presto-Off-White-Black-2018',\n",
       " 'Nike-Air-Presto-Off-White-White-2018',\n",
       " 'Nike-Zoom-Fly-Mercurial-Off-White-Black',\n",
       " 'Nike-Zoom-Fly-Mercurial-Off-White-Total-Orange',\n",
       " 'adidas-Yeezy-Boost-350-V2-Butter',\n",
       " 'Nike-Air-Max-97-Off-White-Elemental-Rose-Queen',\n",
       " 'Nike-Blazer-Mid-Off-White-All-Hallows-Eve',\n",
       " 'Nike-Blazer-Mid-Off-White-Grim-Reaper',\n",
       " 'Adidas-Yeezy-Boost-350-V2-Sesame',\n",
       " 'Nike-Blazer-Mid-Off-White-Wolf-Grey',\n",
       " 'Nike-Air-Max-97-Off-White-Menta',\n",
       " 'Nike-Air-Max-97-Off-White-Black',\n",
       " 'Nike-Zoom-Fly-Off-White-Black-Silver',\n",
       " 'Nike-Zoom-Fly-Off-White-Pink',\n",
       " 'Nike-Air-Force-1-Low-Off-White-Volt',\n",
       " 'Nike-Air-Force-1-Low-Off-White-Black-White',\n",
       " 'adidas-Yeezy-Boost-350-V2-Static',\n",
       " 'adidas-Yeezy-Boost-350-V2-Static-Reflective',\n",
       " 'Nike-Air-Max-90-Off-White-Black',\n",
       " 'Nike-Air-Max-90-Off-White-Desert-Ore']"
      ]
     },
     "execution_count": 32,
     "metadata": {},
     "output_type": "execute_result"
    }
   ],
   "source": [
    "# get all the unique names of shoes, I used to sell shoes, but I can't remember all the names\n",
    "# I also never referred to the full name like this\n",
    "sneaker_names = list(df[\"Sneaker Name\"].unique())\n",
    "sneaker_names"
   ]
  },
  {
   "cell_type": "code",
   "execution_count": 33,
   "id": "a725eca3",
   "metadata": {},
   "outputs": [
    {
     "name": "stdout",
     "output_type": "stream",
     "text": [
      "False\n"
     ]
    }
   ],
   "source": [
    "# checking that contains works as I expect it, should have done this before...\n",
    "print(\"Air-Max-97\".__contains__(\"Air-Max-90\"))"
   ]
  },
  {
   "cell_type": "code",
   "execution_count": 34,
   "id": "735ae8f4",
   "metadata": {},
   "outputs": [],
   "source": [
    "# factor out some more features from nike shoes, barely any for yeezys\n",
    "df[\"is_airmax90\"] = df[\"Sneaker Name\"].apply(lambda x: int(x.__contains__(\"Air-Max-90\")))\n",
    "df[\"is_airmax97\"] = df[\"Sneaker Name\"].apply(lambda x: int(x.__contains__(\"Air-Max-97\")))\n",
    "df[\"is_zoomfly\"] = df[\"Sneaker Name\"].apply(lambda x: int(x.__contains__(\"Zoom-Fly\")))\n",
    "df[\"is_airforce\"] = df[\"Sneaker Name\"].apply(lambda x: int(x.__contains__(\"Air-Force-1\")))\n",
    "# Yeezy shoes containing low seem to be the original releases of the Yeezy\n",
    "df[\"is_yeezy_original\"] = df[\"Sneaker Name\"].apply(lambda x: int(x.__contains__(\"Low\") and x.__contains__(\"Yeezy\")))\n",
    "# Yeezy shoes containing core seem to be the rereleases\n",
    "df[\"is_yeezy_core\"] = df[\"Sneaker Name\"].apply(lambda x: int(x.__contains__(\"Core\")))"
   ]
  },
  {
   "cell_type": "code",
   "execution_count": 35,
   "id": "fe941df8",
   "metadata": {},
   "outputs": [
    {
     "data": {
      "text/html": [
       "<div>\n",
       "<style scoped>\n",
       "    .dataframe tbody tr th:only-of-type {\n",
       "        vertical-align: middle;\n",
       "    }\n",
       "\n",
       "    .dataframe tbody tr th {\n",
       "        vertical-align: top;\n",
       "    }\n",
       "\n",
       "    .dataframe thead th {\n",
       "        text-align: right;\n",
       "    }\n",
       "</style>\n",
       "<table border=\"1\" class=\"dataframe\">\n",
       "  <thead>\n",
       "    <tr style=\"text-align: right;\">\n",
       "      <th></th>\n",
       "      <th>Sneaker Name</th>\n",
       "      <th>Sale Price</th>\n",
       "      <th>Retail Price</th>\n",
       "      <th>Shoe Size</th>\n",
       "      <th>R_Year</th>\n",
       "      <th>R_Month</th>\n",
       "      <th>R_Day</th>\n",
       "      <th>O_Year</th>\n",
       "      <th>O_Month</th>\n",
       "      <th>O_Day</th>\n",
       "      <th>...</th>\n",
       "      <th>is_jordan</th>\n",
       "      <th>is_vapormax</th>\n",
       "      <th>is_blazer</th>\n",
       "      <th>is_presto</th>\n",
       "      <th>is_airmax90</th>\n",
       "      <th>is_airmax97</th>\n",
       "      <th>is_zoomfly</th>\n",
       "      <th>is_airforce</th>\n",
       "      <th>is_yeezy_original</th>\n",
       "      <th>is_yeezy_core</th>\n",
       "    </tr>\n",
       "  </thead>\n",
       "  <tbody>\n",
       "    <tr>\n",
       "      <th>0</th>\n",
       "      <td>Adidas-Yeezy-Boost-350-Low-V2-Beluga</td>\n",
       "      <td>1097</td>\n",
       "      <td>220</td>\n",
       "      <td>11.0</td>\n",
       "      <td>2016</td>\n",
       "      <td>9</td>\n",
       "      <td>24</td>\n",
       "      <td>2017</td>\n",
       "      <td>9</td>\n",
       "      <td>1</td>\n",
       "      <td>...</td>\n",
       "      <td>0</td>\n",
       "      <td>0</td>\n",
       "      <td>0</td>\n",
       "      <td>0</td>\n",
       "      <td>0</td>\n",
       "      <td>0</td>\n",
       "      <td>0</td>\n",
       "      <td>0</td>\n",
       "      <td>1</td>\n",
       "      <td>0</td>\n",
       "    </tr>\n",
       "    <tr>\n",
       "      <th>1</th>\n",
       "      <td>Adidas-Yeezy-Boost-350-V2-Core-Black-Copper</td>\n",
       "      <td>685</td>\n",
       "      <td>220</td>\n",
       "      <td>11.0</td>\n",
       "      <td>2016</td>\n",
       "      <td>11</td>\n",
       "      <td>23</td>\n",
       "      <td>2017</td>\n",
       "      <td>9</td>\n",
       "      <td>1</td>\n",
       "      <td>...</td>\n",
       "      <td>0</td>\n",
       "      <td>0</td>\n",
       "      <td>0</td>\n",
       "      <td>0</td>\n",
       "      <td>0</td>\n",
       "      <td>0</td>\n",
       "      <td>0</td>\n",
       "      <td>0</td>\n",
       "      <td>0</td>\n",
       "      <td>1</td>\n",
       "    </tr>\n",
       "    <tr>\n",
       "      <th>2</th>\n",
       "      <td>Adidas-Yeezy-Boost-350-V2-Core-Black-Green</td>\n",
       "      <td>690</td>\n",
       "      <td>220</td>\n",
       "      <td>11.0</td>\n",
       "      <td>2016</td>\n",
       "      <td>11</td>\n",
       "      <td>23</td>\n",
       "      <td>2017</td>\n",
       "      <td>9</td>\n",
       "      <td>1</td>\n",
       "      <td>...</td>\n",
       "      <td>0</td>\n",
       "      <td>0</td>\n",
       "      <td>0</td>\n",
       "      <td>0</td>\n",
       "      <td>0</td>\n",
       "      <td>0</td>\n",
       "      <td>0</td>\n",
       "      <td>0</td>\n",
       "      <td>0</td>\n",
       "      <td>1</td>\n",
       "    </tr>\n",
       "    <tr>\n",
       "      <th>3</th>\n",
       "      <td>Adidas-Yeezy-Boost-350-V2-Core-Black-Red</td>\n",
       "      <td>1075</td>\n",
       "      <td>220</td>\n",
       "      <td>11.5</td>\n",
       "      <td>2016</td>\n",
       "      <td>11</td>\n",
       "      <td>23</td>\n",
       "      <td>2017</td>\n",
       "      <td>9</td>\n",
       "      <td>1</td>\n",
       "      <td>...</td>\n",
       "      <td>0</td>\n",
       "      <td>0</td>\n",
       "      <td>0</td>\n",
       "      <td>0</td>\n",
       "      <td>0</td>\n",
       "      <td>0</td>\n",
       "      <td>0</td>\n",
       "      <td>0</td>\n",
       "      <td>0</td>\n",
       "      <td>1</td>\n",
       "    </tr>\n",
       "    <tr>\n",
       "      <th>4</th>\n",
       "      <td>Adidas-Yeezy-Boost-350-V2-Core-Black-Red-2017</td>\n",
       "      <td>828</td>\n",
       "      <td>220</td>\n",
       "      <td>11.0</td>\n",
       "      <td>2017</td>\n",
       "      <td>2</td>\n",
       "      <td>11</td>\n",
       "      <td>2017</td>\n",
       "      <td>9</td>\n",
       "      <td>1</td>\n",
       "      <td>...</td>\n",
       "      <td>0</td>\n",
       "      <td>0</td>\n",
       "      <td>0</td>\n",
       "      <td>0</td>\n",
       "      <td>0</td>\n",
       "      <td>0</td>\n",
       "      <td>0</td>\n",
       "      <td>0</td>\n",
       "      <td>0</td>\n",
       "      <td>1</td>\n",
       "    </tr>\n",
       "  </tbody>\n",
       "</table>\n",
       "<p>5 rows × 75 columns</p>\n",
       "</div>"
      ],
      "text/plain": [
       "                                    Sneaker Name  Sale Price  Retail Price  \\\n",
       "0           Adidas-Yeezy-Boost-350-Low-V2-Beluga        1097           220   \n",
       "1    Adidas-Yeezy-Boost-350-V2-Core-Black-Copper         685           220   \n",
       "2     Adidas-Yeezy-Boost-350-V2-Core-Black-Green         690           220   \n",
       "3       Adidas-Yeezy-Boost-350-V2-Core-Black-Red        1075           220   \n",
       "4  Adidas-Yeezy-Boost-350-V2-Core-Black-Red-2017         828           220   \n",
       "\n",
       "   Shoe Size  R_Year  R_Month  R_Day  O_Year  O_Month  O_Day  ...  is_jordan  \\\n",
       "0       11.0    2016        9     24    2017        9      1  ...          0   \n",
       "1       11.0    2016       11     23    2017        9      1  ...          0   \n",
       "2       11.0    2016       11     23    2017        9      1  ...          0   \n",
       "3       11.5    2016       11     23    2017        9      1  ...          0   \n",
       "4       11.0    2017        2     11    2017        9      1  ...          0   \n",
       "\n",
       "   is_vapormax  is_blazer  is_presto  is_airmax90  is_airmax97  is_zoomfly  \\\n",
       "0            0          0          0            0            0           0   \n",
       "1            0          0          0            0            0           0   \n",
       "2            0          0          0            0            0           0   \n",
       "3            0          0          0            0            0           0   \n",
       "4            0          0          0            0            0           0   \n",
       "\n",
       "   is_airforce  is_yeezy_original  is_yeezy_core  \n",
       "0            0                  1              0  \n",
       "1            0                  0              1  \n",
       "2            0                  0              1  \n",
       "3            0                  0              1  \n",
       "4            0                  0              1  \n",
       "\n",
       "[5 rows x 75 columns]"
      ]
     },
     "execution_count": 35,
     "metadata": {},
     "output_type": "execute_result"
    }
   ],
   "source": [
    "df.head()"
   ]
  },
  {
   "cell_type": "code",
   "execution_count": null,
   "id": "1ab751f5",
   "metadata": {},
   "outputs": [],
   "source": [
    "df[df[\"Sneaker Name\"].__contains__(\"Air-Max\")].head(10)"
   ]
  },
  {
   "cell_type": "markdown",
   "id": "815c6162",
   "metadata": {},
   "source": [
    "# Linear Regression\n",
    "\n",
    "## Training and Testing Data\n",
    "\n",
    "Now that we've explored the data a bit, let's go ahead and split the data into training and testing sets.\n",
    "**Set a variable X equal to the numerical features of the customers and a variable y equal to the \"Yearly Amount Spent\" column.**"
   ]
  },
  {
   "cell_type": "code",
   "execution_count": 51,
   "id": "63550bfd",
   "metadata": {},
   "outputs": [
    {
     "data": {
      "text/plain": [
       "Index(['Sneaker Name', 'Sale Price', 'Retail Price', 'Shoe Size', 'R_Year',\n",
       "       'R_Month', 'R_Day', 'O_Year', 'O_Month', 'O_Day', 'Off-White', 'Alaska',\n",
       "       'Arizona', 'Arkansas', 'California', 'Colorado', 'Connecticut',\n",
       "       'Delaware', 'District of Columbia', 'Florida', 'Georgia', 'Hawaii',\n",
       "       'Idaho', 'Illinois', 'Indiana', 'Iowa', 'Kansas', 'Kentucky',\n",
       "       'Louisiana', 'Maine', 'Maryland', 'Massachusetts', 'Michigan',\n",
       "       'Minnesota', 'Mississippi', 'Missouri', 'Montana', 'Nebraska', 'Nevada',\n",
       "       'New Hampshire', 'New Jersey', 'New Mexico', 'New York',\n",
       "       'North Carolina', 'North Dakota', 'Ohio', 'Oklahoma', 'Oregon',\n",
       "       'Pennsylvania', 'Rhode Island', 'South Carolina', 'South Dakota',\n",
       "       'Tennessee', 'Texas', 'Utah', 'Vermont', 'Virginia', 'Washington',\n",
       "       'West Virginia', 'Wisconsin', 'Wyoming', 'is_V2', 'is_nike',\n",
       "       'is_adidas', 'is_airmax', 'is_jordan', 'is_vapormax', 'is_blazer',\n",
       "       'is_presto', 'is_airmax90', 'is_airmax97', 'is_zoomfly', 'is_airforce',\n",
       "       'is_yeezy_original', 'is_yeezy_core'],\n",
       "      dtype='object')"
      ]
     },
     "execution_count": 51,
     "metadata": {},
     "output_type": "execute_result"
    }
   ],
   "source": [
    "df.columns"
   ]
  },
  {
   "cell_type": "code",
   "execution_count": 52,
   "id": "83351322",
   "metadata": {},
   "outputs": [],
   "source": [
    "# I dropped Alabama by accident, only a count of 457. Fix later\n",
    "# Completely forgot about the get_dummies(drop_first=True)\n",
    "X = df[['Retail Price', 'Shoe Size', 'R_Year',\n",
    "       'R_Month', 'R_Day', 'O_Year', 'O_Month', 'O_Day', 'Off-White','is_V2', 'is_nike',\n",
    "       'is_adidas', 'is_airmax', 'is_jordan', 'is_vapormax', 'is_blazer',\n",
    "       'is_presto', 'is_airmax90', 'is_airmax97', 'is_zoomfly', 'is_airforce',\n",
    "       'is_yeezy_original', 'is_yeezy_core']]\n",
    "\n",
    "y = df[\"Sale Price\"]"
   ]
  },
  {
   "cell_type": "code",
   "execution_count": null,
   "id": "cb7280f4",
   "metadata": {},
   "outputs": [],
   "source": [
    "                                                "
   ]
  },
  {
   "cell_type": "markdown",
   "id": "2736277e",
   "metadata": {},
   "source": [
    "**Use model_selection.train_test_split from sklearn to split the data into training and testing sets. Set test_size=0.3 and random_state=101**"
   ]
  },
  {
   "cell_type": "code",
   "execution_count": 53,
   "id": "2c1b39a6",
   "metadata": {},
   "outputs": [],
   "source": [
    "from sklearn.model_selection import train_test_split"
   ]
  },
  {
   "cell_type": "code",
   "execution_count": 54,
   "id": "f11d6e6e",
   "metadata": {},
   "outputs": [],
   "source": [
    "X_train, X_test, y_train, y_test = train_test_split(X, y, test_size=0.3, random_state=101)"
   ]
  },
  {
   "cell_type": "markdown",
   "id": "08146fe2",
   "metadata": {},
   "source": [
    "## Training the Model\n",
    "\n",
    "Now its time to train our model on our training data!\n",
    "\n",
    "**Import LinearRegression from sklearn.linear_model**"
   ]
  },
  {
   "cell_type": "code",
   "execution_count": 55,
   "id": "271c2e8a",
   "metadata": {},
   "outputs": [],
   "source": [
    "from sklearn.linear_model import LinearRegression"
   ]
  },
  {
   "cell_type": "code",
   "execution_count": 56,
   "id": "197573b8",
   "metadata": {},
   "outputs": [
    {
     "data": {
      "text/plain": [
       "LinearRegression()"
      ]
     },
     "execution_count": 56,
     "metadata": {},
     "output_type": "execute_result"
    }
   ],
   "source": [
    "linear_regression_object = LinearRegression()\n",
    "linear_regression_object"
   ]
  },
  {
   "cell_type": "markdown",
   "id": "ec5b83e3",
   "metadata": {},
   "source": [
    "**Train/fit lm on the training data.**"
   ]
  },
  {
   "cell_type": "code",
   "execution_count": 57,
   "id": "94825282",
   "metadata": {},
   "outputs": [
    {
     "data": {
      "text/plain": [
       "LinearRegression()"
      ]
     },
     "execution_count": 57,
     "metadata": {},
     "output_type": "execute_result"
    }
   ],
   "source": [
    "# train the model by passing in x,y training sets\n",
    "linear_regression_object.fit(X_train, y_train)\n",
    "#print(linear_regression_object.score(X_train,y_train))"
   ]
  },
  {
   "cell_type": "markdown",
   "id": "73ae36b9",
   "metadata": {},
   "source": [
    "**Print out the coefficients of the model**"
   ]
  },
  {
   "cell_type": "code",
   "execution_count": 58,
   "id": "b7e5d2c7",
   "metadata": {},
   "outputs": [
    {
     "name": "stdout",
     "output_type": "stream",
     "text": [
      "[-1.23428661e+00  2.25188421e+00 -1.21043817e+02  9.21552869e-01\n",
      " -5.05680190e+00 -6.79088490e+01 -9.56868556e+00 -1.88777359e-01\n",
      "  6.38466727e+01 -1.40594594e+02 -3.39006821e+02 -9.95098490e+01\n",
      "  2.70340598e+02  4.02853494e+02  1.52955765e+02  1.92849668e+02\n",
      "  4.18560838e+02  1.23877852e+01  1.04997048e+02  3.67629211e+01\n",
      "  1.84852209e+02  2.92946950e+02  2.82975332e+02]\n"
     ]
    }
   ],
   "source": [
    "print(linear_regression_object.coef_)"
   ]
  },
  {
   "cell_type": "code",
   "execution_count": 59,
   "id": "62352d76",
   "metadata": {},
   "outputs": [
    {
     "name": "stdout",
     "output_type": "stream",
     "text": [
      "382225.62413731485\n"
     ]
    }
   ],
   "source": [
    "print(linear_regression_object.intercept_)"
   ]
  },
  {
   "cell_type": "code",
   "execution_count": 61,
   "id": "b24b931f",
   "metadata": {},
   "outputs": [
    {
     "data": {
      "text/html": [
       "<div>\n",
       "<style scoped>\n",
       "    .dataframe tbody tr th:only-of-type {\n",
       "        vertical-align: middle;\n",
       "    }\n",
       "\n",
       "    .dataframe tbody tr th {\n",
       "        vertical-align: top;\n",
       "    }\n",
       "\n",
       "    .dataframe thead th {\n",
       "        text-align: right;\n",
       "    }\n",
       "</style>\n",
       "<table border=\"1\" class=\"dataframe\">\n",
       "  <thead>\n",
       "    <tr style=\"text-align: right;\">\n",
       "      <th></th>\n",
       "      <th>Coefficients</th>\n",
       "    </tr>\n",
       "  </thead>\n",
       "  <tbody>\n",
       "    <tr>\n",
       "      <th>Retail Price</th>\n",
       "      <td>-1.234287</td>\n",
       "    </tr>\n",
       "    <tr>\n",
       "      <th>Shoe Size</th>\n",
       "      <td>2.251884</td>\n",
       "    </tr>\n",
       "    <tr>\n",
       "      <th>R_Year</th>\n",
       "      <td>-121.043817</td>\n",
       "    </tr>\n",
       "    <tr>\n",
       "      <th>R_Month</th>\n",
       "      <td>0.921553</td>\n",
       "    </tr>\n",
       "    <tr>\n",
       "      <th>R_Day</th>\n",
       "      <td>-5.056802</td>\n",
       "    </tr>\n",
       "    <tr>\n",
       "      <th>O_Year</th>\n",
       "      <td>-67.908849</td>\n",
       "    </tr>\n",
       "    <tr>\n",
       "      <th>O_Month</th>\n",
       "      <td>-9.568686</td>\n",
       "    </tr>\n",
       "    <tr>\n",
       "      <th>O_Day</th>\n",
       "      <td>-0.188777</td>\n",
       "    </tr>\n",
       "    <tr>\n",
       "      <th>Off-White</th>\n",
       "      <td>63.846673</td>\n",
       "    </tr>\n",
       "    <tr>\n",
       "      <th>is_V2</th>\n",
       "      <td>-140.594594</td>\n",
       "    </tr>\n",
       "    <tr>\n",
       "      <th>is_nike</th>\n",
       "      <td>-339.006821</td>\n",
       "    </tr>\n",
       "    <tr>\n",
       "      <th>is_adidas</th>\n",
       "      <td>-99.509849</td>\n",
       "    </tr>\n",
       "    <tr>\n",
       "      <th>is_airmax</th>\n",
       "      <td>270.340598</td>\n",
       "    </tr>\n",
       "    <tr>\n",
       "      <th>is_jordan</th>\n",
       "      <td>402.853494</td>\n",
       "    </tr>\n",
       "    <tr>\n",
       "      <th>is_vapormax</th>\n",
       "      <td>152.955765</td>\n",
       "    </tr>\n",
       "    <tr>\n",
       "      <th>is_blazer</th>\n",
       "      <td>192.849668</td>\n",
       "    </tr>\n",
       "    <tr>\n",
       "      <th>is_presto</th>\n",
       "      <td>418.560838</td>\n",
       "    </tr>\n",
       "    <tr>\n",
       "      <th>is_airmax90</th>\n",
       "      <td>12.387785</td>\n",
       "    </tr>\n",
       "    <tr>\n",
       "      <th>is_airmax97</th>\n",
       "      <td>104.997048</td>\n",
       "    </tr>\n",
       "    <tr>\n",
       "      <th>is_zoomfly</th>\n",
       "      <td>36.762921</td>\n",
       "    </tr>\n",
       "    <tr>\n",
       "      <th>is_airforce</th>\n",
       "      <td>184.852209</td>\n",
       "    </tr>\n",
       "    <tr>\n",
       "      <th>is_yeezy_original</th>\n",
       "      <td>292.946950</td>\n",
       "    </tr>\n",
       "    <tr>\n",
       "      <th>is_yeezy_core</th>\n",
       "      <td>282.975332</td>\n",
       "    </tr>\n",
       "  </tbody>\n",
       "</table>\n",
       "</div>"
      ],
      "text/plain": [
       "                   Coefficients\n",
       "Retail Price          -1.234287\n",
       "Shoe Size              2.251884\n",
       "R_Year              -121.043817\n",
       "R_Month                0.921553\n",
       "R_Day                 -5.056802\n",
       "O_Year               -67.908849\n",
       "O_Month               -9.568686\n",
       "O_Day                 -0.188777\n",
       "Off-White             63.846673\n",
       "is_V2               -140.594594\n",
       "is_nike             -339.006821\n",
       "is_adidas            -99.509849\n",
       "is_airmax            270.340598\n",
       "is_jordan            402.853494\n",
       "is_vapormax          152.955765\n",
       "is_blazer            192.849668\n",
       "is_presto            418.560838\n",
       "is_airmax90           12.387785\n",
       "is_airmax97          104.997048\n",
       "is_zoomfly            36.762921\n",
       "is_airforce          184.852209\n",
       "is_yeezy_original    292.946950\n",
       "is_yeezy_core        282.975332"
      ]
     },
     "execution_count": 61,
     "metadata": {},
     "output_type": "execute_result"
    }
   ],
   "source": [
    "# creating a Dataframe with our coefficient data, passing in our x columns in for the rows\n",
    "# then passing in the columns we want to see\n",
    "coeff_df = pd.DataFrame(linear_regression_object.coef_, X.columns, columns=[\"Coefficients\"])\n",
    "coeff_df"
   ]
  },
  {
   "cell_type": "markdown",
   "id": "9be3ba89",
   "metadata": {},
   "source": [
    "## Predicting Test Data\n",
    "Now that we have fit our model, let's evaluate its performance by predicting off the test values!\n",
    "\n",
    "**Use lm.predict() to predict off the X_test set of the data.**"
   ]
  },
  {
   "cell_type": "code",
   "execution_count": 62,
   "id": "495ef43a",
   "metadata": {},
   "outputs": [
    {
     "data": {
      "text/plain": [
       "array([449.85993024, 596.49816475, 425.66590272, ..., 284.12886545,\n",
       "       317.25553638, 376.22374645])"
      ]
     },
     "execution_count": 62,
     "metadata": {},
     "output_type": "execute_result"
    }
   ],
   "source": [
    "# pass in x test dataset, and predict a value\n",
    "predictions = linear_regression_object.predict(X_test)\n",
    "predictions"
   ]
  },
  {
   "cell_type": "markdown",
   "id": "de97f7de",
   "metadata": {},
   "source": [
    "**Create a scatterplot of the real test values versus the predicted values.**"
   ]
  },
  {
   "cell_type": "code",
   "execution_count": 63,
   "id": "27b8d1ce",
   "metadata": {},
   "outputs": [
    {
     "data": {
      "text/plain": [
       "<matplotlib.collections.PathCollection at 0x7f9970b45940>"
      ]
     },
     "execution_count": 63,
     "metadata": {},
     "output_type": "execute_result"
    },
    {
     "data": {
      "image/png": "[encoded data removed]",
      "text/plain": [
       "<Figure size 640x480 with 1 Axes>"
      ]
     },
     "metadata": {},
     "output_type": "display_data"
    }
   ],
   "source": [
    "# So were testing our values against y_test\n",
    "# We make predictions off X_test values and then check those corresponsing y_predictions\n",
    "# with y_test. (Look at documentation, I could see myself getting confused if I ever look back at this again)\n",
    "plt.scatter(y_test, predictions)"
   ]
  },
  {
   "cell_type": "code",
   "execution_count": 64,
   "id": "f84e93ab",
   "metadata": {},
   "outputs": [],
   "source": [
    "from sklearn import metrics"
   ]
  },
  {
   "cell_type": "code",
   "execution_count": 66,
   "id": "c19710b3",
   "metadata": {},
   "outputs": [
    {
     "name": "stdout",
     "output_type": "stream",
     "text": [
      "MAE 83.4504621158842\n",
      "MSE 19659.267786085198\n",
      "RMSE 140.21151089010203\n"
     ]
    }
   ],
   "source": [
    "print(\"MAE\", metrics.mean_absolute_error(y_test, predictions))\n",
    "print(\"MSE\", metrics.mean_squared_error(y_test, predictions))\n",
    "print(\"RMSE\", np.sqrt(metrics.mean_squared_error(y_test, predictions)))"
   ]
  },
  {
   "cell_type": "code",
   "execution_count": 67,
   "id": "2422cf5c",
   "metadata": {},
   "outputs": [
    {
     "data": {
      "text/html": [
       "<div>\n",
       "<style scoped>\n",
       "    .dataframe tbody tr th:only-of-type {\n",
       "        vertical-align: middle;\n",
       "    }\n",
       "\n",
       "    .dataframe tbody tr th {\n",
       "        vertical-align: top;\n",
       "    }\n",
       "\n",
       "    .dataframe thead th {\n",
       "        text-align: right;\n",
       "    }\n",
       "</style>\n",
       "<table border=\"1\" class=\"dataframe\">\n",
       "  <thead>\n",
       "    <tr style=\"text-align: right;\">\n",
       "      <th></th>\n",
       "      <th>Real</th>\n",
       "      <th>Prediction</th>\n",
       "    </tr>\n",
       "  </thead>\n",
       "  <tbody>\n",
       "    <tr>\n",
       "      <th>20585</th>\n",
       "      <td>370</td>\n",
       "      <td>449.859930</td>\n",
       "    </tr>\n",
       "    <tr>\n",
       "      <th>52343</th>\n",
       "      <td>645</td>\n",
       "      <td>596.498165</td>\n",
       "    </tr>\n",
       "    <tr>\n",
       "      <th>25183</th>\n",
       "      <td>427</td>\n",
       "      <td>425.665903</td>\n",
       "    </tr>\n",
       "    <tr>\n",
       "      <th>72040</th>\n",
       "      <td>275</td>\n",
       "      <td>210.700490</td>\n",
       "    </tr>\n",
       "    <tr>\n",
       "      <th>18761</th>\n",
       "      <td>370</td>\n",
       "      <td>459.044339</td>\n",
       "    </tr>\n",
       "    <tr>\n",
       "      <th>...</th>\n",
       "      <td>...</td>\n",
       "      <td>...</td>\n",
       "    </tr>\n",
       "    <tr>\n",
       "      <th>84263</th>\n",
       "      <td>506</td>\n",
       "      <td>478.650393</td>\n",
       "    </tr>\n",
       "    <tr>\n",
       "      <th>41388</th>\n",
       "      <td>320</td>\n",
       "      <td>309.900257</td>\n",
       "    </tr>\n",
       "    <tr>\n",
       "      <th>61503</th>\n",
       "      <td>296</td>\n",
       "      <td>306.946724</td>\n",
       "    </tr>\n",
       "    <tr>\n",
       "      <th>75839</th>\n",
       "      <td>286</td>\n",
       "      <td>356.644040</td>\n",
       "    </tr>\n",
       "    <tr>\n",
       "      <th>90228</th>\n",
       "      <td>294</td>\n",
       "      <td>380.668204</td>\n",
       "    </tr>\n",
       "  </tbody>\n",
       "</table>\n",
       "<p>1000 rows × 2 columns</p>\n",
       "</div>"
      ],
      "text/plain": [
       "       Real  Prediction\n",
       "20585   370  449.859930\n",
       "52343   645  596.498165\n",
       "25183   427  425.665903\n",
       "72040   275  210.700490\n",
       "18761   370  459.044339\n",
       "...     ...         ...\n",
       "84263   506  478.650393\n",
       "41388   320  309.900257\n",
       "61503   296  306.946724\n",
       "75839   286  356.644040\n",
       "90228   294  380.668204\n",
       "\n",
       "[1000 rows x 2 columns]"
      ]
     },
     "execution_count": 67,
     "metadata": {},
     "output_type": "execute_result"
    }
   ],
   "source": [
    "check = pd.DataFrame({\"Real\":y_test, \"Prediction\": predictions})\n",
    "check.head(1000)"
   ]
  },
  {
   "cell_type": "markdown",
   "id": "664fafe5",
   "metadata": {},
   "source": [
    "**Conclusions**\n",
    "Based on the metric values above, we cannot accurately predict the price of shoes being sold on\n",
    "StockX without more relevant data. Yes, dates affect the prices of shoes, and we can use that to predict\n",
    "shoe value because a trend occurs from 2016 to 2019. Buyer region is also essential, as the east and west coasts are fashion and cultural relevance drivers. It looks like the model\n",
    "is severely overfitted. Even by removing the columns of the state from our training, we still get similar results, e.g., going from 60 columns for X to only using eight columns. Meaning it did not matter if I removed the states or not. The one column I did not use but was critical\n",
    "was the sneaker name. (A significant factor in reselling desired shoes like these is the shoe's colorway, do\n",
    "people like it? Is it a desirable color that hasn't been released before? Is the shoe a 2nd iteration\n",
    "of a previous model? For example, there is Adidas-Yeezy-Boost-350-V2-Core-Black-Green, and there is Adidas-Yeezy-Boost-350-Low-Pirate-Black-2016. The latter is one of the most desired models, as stock was limited when the shoe came out and was never re-released to the public, even up to now. The V2 models have been re-released countless times and buyers are tired of them. An enormous appeal of yeezys between 2018 and 2020 was that you were guaranteed to make money on your investment if you could get your hands on them, that is slowly becoming not the case. This is the opposite case with the \"Off-White\" shoes, Virgil Abloh wanted these to be limited, and thus didn't release much stock. Some models were more desirable than others, for example only runners liked the vaporfly but the air jordans had the most appeal to everyone, and thus were the most desired because supply would run out instantaneously and people would essentially have no chance to get them.\n",
    "\n",
    "**NOTE**\n",
    "After class presentation I went ahead, and stopped using the states columns for my model as suggested. I pulled out as many model types from the shoes, leaving out colors because there was overlap between \"Off-White\" and \"Yeezys\". With \n",
    "these new columns I was able to get a better model than what I originally had, it's still bad, but an improvement of what there was previously."
   ]
  },
  {
   "cell_type": "markdown",
   "id": "20be5134",
   "metadata": {},
   "source": [
    "# Below is the model with minimum features e.g. no state columns\n",
    "\n",
    "**Results ended up being the same regardless**\n",
    "\n",
    "- Posted this here because I am trying to improve above model"
   ]
  },
  {
   "cell_type": "code",
   "execution_count": 549,
   "id": "ff793a20",
   "metadata": {},
   "outputs": [
    {
     "name": "stdout",
     "output_type": "stream",
     "text": [
      "MAE 116.14219615046225\n",
      "MSE 37008.36948332585\n",
      "RMSE 192.3755948225394\n"
     ]
    },
    {
     "data": {
      "image/png": "[encoded data removed]",
      "text/plain": [
       "<Figure size 640x480 with 1 Axes>"
      ]
     },
     "metadata": {},
     "output_type": "display_data"
    }
   ],
   "source": [
    "features = df[[\"Retail Price\", \"R_Year\", \"R_Month\", \"R_Day\", \"O_Year\", \"O_Month\", \"O_Day\", \"Off-White\"]]\n",
    "response = df[\"Sale Price\"]\n",
    "# train based off x(features), and y(response variable)\n",
    "X_train, X_test, y_train, y_test = train_test_split(features, response, test_size=0.3, random_state=101)\n",
    "# create our linear model\n",
    "linear_model = LinearRegression()\n",
    "# fit our data\n",
    "linear_regression_object.fit(X_train, y_train)\n",
    "# get our predictions based off model\n",
    "predictions = linear_regression_object.predict(X_test)\n",
    "# plot data, should be linear\n",
    "plt.scatter(y_test, predictions)\n",
    "print(\"MAE\", metrics.mean_absolute_error(y_test, predictions))\n",
    "print(\"MSE\", metrics.mean_squared_error(y_test, predictions))\n",
    "print(\"RMSE\", np.sqrt(metrics.mean_squared_error(y_test, predictions)))"
   ]
  },
  {
   "cell_type": "code",
   "execution_count": 550,
   "id": "925b202e",
   "metadata": {},
   "outputs": [
    {
     "data": {
      "text/html": [
       "<div>\n",
       "<style scoped>\n",
       "    .dataframe tbody tr th:only-of-type {\n",
       "        vertical-align: middle;\n",
       "    }\n",
       "\n",
       "    .dataframe tbody tr th {\n",
       "        vertical-align: top;\n",
       "    }\n",
       "\n",
       "    .dataframe thead th {\n",
       "        text-align: right;\n",
       "    }\n",
       "</style>\n",
       "<table border=\"1\" class=\"dataframe\">\n",
       "  <thead>\n",
       "    <tr style=\"text-align: right;\">\n",
       "      <th></th>\n",
       "      <th>Real</th>\n",
       "      <th>Prediction</th>\n",
       "    </tr>\n",
       "  </thead>\n",
       "  <tbody>\n",
       "    <tr>\n",
       "      <th>20585</th>\n",
       "      <td>370</td>\n",
       "      <td>478.490065</td>\n",
       "    </tr>\n",
       "    <tr>\n",
       "      <th>52343</th>\n",
       "      <td>645</td>\n",
       "      <td>623.134205</td>\n",
       "    </tr>\n",
       "    <tr>\n",
       "      <th>25183</th>\n",
       "      <td>427</td>\n",
       "      <td>443.716189</td>\n",
       "    </tr>\n",
       "    <tr>\n",
       "      <th>72040</th>\n",
       "      <td>275</td>\n",
       "      <td>195.173897</td>\n",
       "    </tr>\n",
       "    <tr>\n",
       "      <th>18761</th>\n",
       "      <td>370</td>\n",
       "      <td>495.810819</td>\n",
       "    </tr>\n",
       "    <tr>\n",
       "      <th>...</th>\n",
       "      <td>...</td>\n",
       "      <td>...</td>\n",
       "    </tr>\n",
       "    <tr>\n",
       "      <th>84263</th>\n",
       "      <td>506</td>\n",
       "      <td>644.791778</td>\n",
       "    </tr>\n",
       "    <tr>\n",
       "      <th>41388</th>\n",
       "      <td>320</td>\n",
       "      <td>661.200570</td>\n",
       "    </tr>\n",
       "    <tr>\n",
       "      <th>61503</th>\n",
       "      <td>296</td>\n",
       "      <td>359.169925</td>\n",
       "    </tr>\n",
       "    <tr>\n",
       "      <th>75839</th>\n",
       "      <td>286</td>\n",
       "      <td>321.578182</td>\n",
       "    </tr>\n",
       "    <tr>\n",
       "      <th>90228</th>\n",
       "      <td>294</td>\n",
       "      <td>405.626754</td>\n",
       "    </tr>\n",
       "  </tbody>\n",
       "</table>\n",
       "<p>1000 rows × 2 columns</p>\n",
       "</div>"
      ],
      "text/plain": [
       "       Real  Prediction\n",
       "20585   370  478.490065\n",
       "52343   645  623.134205\n",
       "25183   427  443.716189\n",
       "72040   275  195.173897\n",
       "18761   370  495.810819\n",
       "...     ...         ...\n",
       "84263   506  644.791778\n",
       "41388   320  661.200570\n",
       "61503   296  359.169925\n",
       "75839   286  321.578182\n",
       "90228   294  405.626754\n",
       "\n",
       "[1000 rows x 2 columns]"
      ]
     },
     "execution_count": 550,
     "metadata": {},
     "output_type": "execute_result"
    }
   ],
   "source": [
    "check = pd.DataFrame({\"Real\":y_test, \"Prediction\": predictions})\n",
    "check.head(1000)"
   ]
  },
  {
   "cell_type": "markdown",
   "id": "19368b3c",
   "metadata": {},
   "source": [
    "# Below is Model with state columns and no new columns based off features off the \"Sneaker Name\" column\n",
    "\n",
    "- Notice how model without states is the same (maybe for finished model, leave out states since it doesnt affect it?"
   ]
  },
  {
   "cell_type": "code",
   "execution_count": 552,
   "id": "9712fa77",
   "metadata": {},
   "outputs": [
    {
     "name": "stdout",
     "output_type": "stream",
     "text": [
      "MAE 116.055817361318\n",
      "MSE 36706.58723065848\n",
      "RMSE 191.58963236735562\n"
     ]
    },
    {
     "data": {
      "image/png": "[encoded data removed]",
      "text/plain": [
       "<Figure size 640x480 with 1 Axes>"
      ]
     },
     "metadata": {},
     "output_type": "display_data"
    }
   ],
   "source": [
    "features_with_states = df[['Retail Price', 'Shoe Size', 'R_Year',\n",
    "       'R_Month', 'R_Day', 'O_Year', 'O_Month', 'O_Day', 'Off-White', 'Alaska',\n",
    "       'Arizona', 'Arkansas', 'California', 'Colorado', 'Connecticut',\n",
    "       'Delaware', 'District of Columbia', 'Florida', 'Georgia', 'Hawaii',\n",
    "       'Idaho', 'Illinois', 'Indiana', 'Iowa', 'Kansas', 'Kentucky',\n",
    "       'Louisiana', 'Maine', 'Maryland', 'Massachusetts', 'Michigan',\n",
    "       'Minnesota', 'Mississippi', 'Missouri', 'Montana', 'Nebraska', 'Nevada',\n",
    "       'New Hampshire', 'New Jersey', 'New Mexico', 'New York',\n",
    "       'North Carolina', 'North Dakota', 'Ohio', 'Oklahoma', 'Oregon',\n",
    "       'Pennsylvania', 'Rhode Island', 'South Carolina', 'South Dakota',\n",
    "       'Tennessee', 'Texas', 'Utah', 'Vermont', 'Virginia', 'Washington',\n",
    "       'West Virginia', 'Wisconsin', 'Wyoming']]\n",
    "response_with_states = df[\"Sale Price\"]\n",
    "# train based off x(features), and y(response variable)\n",
    "X_train, X_test, y_train, y_test = train_test_split(features_with_states, response_with_states, test_size=0.3, random_state=101)\n",
    "# create our linear model\n",
    "linear_model = LinearRegression()\n",
    "# fit our data\n",
    "linear_regression_object.fit(X_train, y_train)\n",
    "# get our predictions based off model\n",
    "predictions = linear_regression_object.predict(X_test)\n",
    "# plot data, should be linear\n",
    "plt.scatter(y_test, predictions)\n",
    "print(\"MAE\", metrics.mean_absolute_error(y_test, predictions))\n",
    "print(\"MSE\", metrics.mean_squared_error(y_test, predictions))\n",
    "print(\"RMSE\", np.sqrt(metrics.mean_squared_error(y_test, predictions)))"
   ]
  },
  {
   "cell_type": "code",
   "execution_count": 553,
   "id": "deaf9900",
   "metadata": {},
   "outputs": [
    {
     "data": {
      "text/html": [
       "<div>\n",
       "<style scoped>\n",
       "    .dataframe tbody tr th:only-of-type {\n",
       "        vertical-align: middle;\n",
       "    }\n",
       "\n",
       "    .dataframe tbody tr th {\n",
       "        vertical-align: top;\n",
       "    }\n",
       "\n",
       "    .dataframe thead th {\n",
       "        text-align: right;\n",
       "    }\n",
       "</style>\n",
       "<table border=\"1\" class=\"dataframe\">\n",
       "  <thead>\n",
       "    <tr style=\"text-align: right;\">\n",
       "      <th></th>\n",
       "      <th>Real</th>\n",
       "      <th>Prediction</th>\n",
       "    </tr>\n",
       "  </thead>\n",
       "  <tbody>\n",
       "    <tr>\n",
       "      <th>20585</th>\n",
       "      <td>370</td>\n",
       "      <td>461.675970</td>\n",
       "    </tr>\n",
       "    <tr>\n",
       "      <th>52343</th>\n",
       "      <td>645</td>\n",
       "      <td>621.884747</td>\n",
       "    </tr>\n",
       "    <tr>\n",
       "      <th>25183</th>\n",
       "      <td>427</td>\n",
       "      <td>450.172542</td>\n",
       "    </tr>\n",
       "    <tr>\n",
       "      <th>72040</th>\n",
       "      <td>275</td>\n",
       "      <td>216.375637</td>\n",
       "    </tr>\n",
       "    <tr>\n",
       "      <th>18761</th>\n",
       "      <td>370</td>\n",
       "      <td>482.652028</td>\n",
       "    </tr>\n",
       "    <tr>\n",
       "      <th>...</th>\n",
       "      <td>...</td>\n",
       "      <td>...</td>\n",
       "    </tr>\n",
       "    <tr>\n",
       "      <th>84263</th>\n",
       "      <td>506</td>\n",
       "      <td>629.483798</td>\n",
       "    </tr>\n",
       "    <tr>\n",
       "      <th>41388</th>\n",
       "      <td>320</td>\n",
       "      <td>669.091015</td>\n",
       "    </tr>\n",
       "    <tr>\n",
       "      <th>61503</th>\n",
       "      <td>296</td>\n",
       "      <td>347.313388</td>\n",
       "    </tr>\n",
       "    <tr>\n",
       "      <th>75839</th>\n",
       "      <td>286</td>\n",
       "      <td>317.584704</td>\n",
       "    </tr>\n",
       "    <tr>\n",
       "      <th>90228</th>\n",
       "      <td>294</td>\n",
       "      <td>395.106780</td>\n",
       "    </tr>\n",
       "  </tbody>\n",
       "</table>\n",
       "<p>1000 rows × 2 columns</p>\n",
       "</div>"
      ],
      "text/plain": [
       "       Real  Prediction\n",
       "20585   370  461.675970\n",
       "52343   645  621.884747\n",
       "25183   427  450.172542\n",
       "72040   275  216.375637\n",
       "18761   370  482.652028\n",
       "...     ...         ...\n",
       "84263   506  629.483798\n",
       "41388   320  669.091015\n",
       "61503   296  347.313388\n",
       "75839   286  317.584704\n",
       "90228   294  395.106780\n",
       "\n",
       "[1000 rows x 2 columns]"
      ]
     },
     "execution_count": 553,
     "metadata": {},
     "output_type": "execute_result"
    }
   ],
   "source": [
    "check = pd.DataFrame({\"Real\":y_test, \"Prediction\": predictions})\n",
    "check.head(1000)"
   ]
  }
 ],
 "metadata": {
  "kernelspec": {
   "display_name": "Python 3 (ipykernel)",
   "language": "python",
   "name": "python3"
  },
  "language_info": {
   "codemirror_mode": {
    "name": "ipython",
    "version": 3
   },
   "file_extension": ".py",
   "mimetype": "text/x-python",
   "name": "python",
   "nbconvert_exporter": "python",
   "pygments_lexer": "ipython3",
   "version": "3.9.7"
  }
 },
 "nbformat": 4,
 "nbformat_minor": 5
}
